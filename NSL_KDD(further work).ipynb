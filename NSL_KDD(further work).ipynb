{
  "nbformat": 4,
  "nbformat_minor": 0,
  "metadata": {
    "colab": {
      "provenance": [],
      "mount_file_id": "113pJO63lOsIegoVjbzZvtU3kLqm1k8sF",
      "authorship_tag": "ABX9TyNs205WIu6XOvcAYHBG1PJL",
      "include_colab_link": true
    },
    "kernelspec": {
      "name": "python3",
      "display_name": "Python 3"
    },
    "language_info": {
      "name": "python"
    }
  },
  "cells": [
    {
      "cell_type": "markdown",
      "metadata": {
        "id": "view-in-github",
        "colab_type": "text"
      },
      "source": [
        "<a href=\"https://colab.research.google.com/github/ara114/Anomaly-detection-CS-/blob/main/NSL_KDD(further%20work).ipynb\" target=\"_parent\"><img src=\"https://colab.research.google.com/assets/colab-badge.svg\" alt=\"Open In Colab\"/></a>"
      ]
    },
    {
      "cell_type": "code",
      "source": [
        "from google.colab import drive\n",
        "import pandas as pd\n",
        "\n",
        "# Mount Google Drive\n",
        "drive.mount('/content/drive')\n",
        "\n",
        "# File paths for train and test datasets in Google Drive\n",
        "train_dataset_path = '/content/drive/MyDrive/Machine-Learning(datasets)/NSL-KDD/NSL_KDD_Train.csv'\n",
        "test_dataset_path = '/content/drive/MyDrive/Machine-Learning(datasets)/NSL-KDD/NSL_KDD_Test.csv'\n",
        "\n",
        "# Load the train dataset using Pandas\n",
        "train_df = pd.read_csv(train_dataset_path)\n",
        "\n",
        "# Load the test dataset using Pandas\n",
        "test_df = pd.read_csv(test_dataset_path)\n",
        "\n",
        "# Verify the train dataset\n",
        "print(\"Train Dataset:\")\n",
        "print(train_df.head())\n",
        "\n",
        "# Verify the test dataset\n",
        "print(\"\\nTest Dataset:\")\n",
        "print(test_df.head())\n"
      ],
      "metadata": {
        "colab": {
          "base_uri": "https://localhost:8080/"
        },
        "id": "Ay5Leid2amyd",
        "outputId": "a9426c68-aa75-4fbb-fa12-dc0c316d38f6"
      },
      "execution_count": 1,
      "outputs": [
        {
          "output_type": "stream",
          "name": "stdout",
          "text": [
            "Drive already mounted at /content/drive; to attempt to forcibly remount, call drive.mount(\"/content/drive\", force_remount=True).\n",
            "Train Dataset:\n",
            "   0  tcp ftp_data   SF  491   0.1  0.2  0.3  0.4  0.5  ...   25  0.17  0.03  \\\n",
            "0  0  udp    other   SF  146     0    0    0    0    0  ...    1  0.00  0.60   \n",
            "1  0  tcp  private   S0    0     0    0    0    0    0  ...   26  0.10  0.05   \n",
            "2  0  tcp     http   SF  232  8153    0    0    0    0  ...  255  1.00  0.00   \n",
            "3  0  tcp     http   SF  199   420    0    0    0    0  ...  255  1.00  0.00   \n",
            "4  0  tcp  private  REJ    0     0    0    0    0    0  ...   19  0.07  0.07   \n",
            "\n",
            "   0.17.1  0.25  0.26  0.27  0.05  0.28   normal  \n",
            "0    0.88  0.00  0.00  0.00   0.0  0.00   normal  \n",
            "1    0.00  0.00  1.00  1.00   0.0  0.00  neptune  \n",
            "2    0.03  0.04  0.03  0.01   0.0  0.01   normal  \n",
            "3    0.00  0.00  0.00  0.00   0.0  0.00   normal  \n",
            "4    0.00  0.00  0.00  0.00   1.0  1.00  neptune  \n",
            "\n",
            "[5 rows x 42 columns]\n",
            "\n",
            "Test Dataset:\n",
            "   0   tcp   private   REJ    0.1    0.2  0.3  0.4  0.5  0.6  ...  10.1  \\\n",
            "0  0   tcp   private   REJ      0      0    0    0    0    0  ...     1   \n",
            "1  2   tcp  ftp_data    SF  12983      0    0    0    0    0  ...    86   \n",
            "2  0  icmp     eco_i    SF     20      0    0    0    0    0  ...    57   \n",
            "3  1   tcp    telnet  RSTO      0     15    0    0    0    0  ...    86   \n",
            "4  0   tcp      http    SF    267  14515    0    0    0    0  ...   255   \n",
            "\n",
            "   0.04.1  0.06.1  0.22  0.23  0.24  0.25   1.2   1.3  neptune  \n",
            "0    0.00    0.06  0.00  0.00  0.00   0.0  1.00  1.00  neptune  \n",
            "1    0.61    0.04  0.61  0.02  0.00   0.0  0.00  0.00   normal  \n",
            "2    1.00    0.00  1.00  0.28  0.00   0.0  0.00  0.00    saint  \n",
            "3    0.31    0.17  0.03  0.02  0.00   0.0  0.83  0.71    mscan  \n",
            "4    1.00    0.00  0.01  0.03  0.01   0.0  0.00  0.00   normal  \n",
            "\n",
            "[5 rows x 42 columns]\n"
          ]
        }
      ]
    },
    {
      "cell_type": "code",
      "source": [
        "columns = ['duration', 'protocol_type', 'service', 'flag',\n",
        "           'src_bytes', 'dst_bytes', 'land', 'wrong_fragment',\n",
        "           'urgent', 'hot', 'num_failed_logins', 'logged_in',\n",
        "           'num_compromised', 'root_shell', 'su_attempted',\n",
        "           'num_root', 'num_file_creations', 'num_shells',\n",
        "           'num_access_files', 'num_outbound_cmds', 'is_host_login',\n",
        "           'is_guest_login', 'count', 'srv_count', 'serror_rate',\n",
        "           'srv_serror_rate', 'rerror_rate', 'srv_rerror_rate',\n",
        "           'same_srv_rate', 'diff_srv_rate', 'srv_diff_host_rate',\n",
        "           'dst_host_count', 'dst_host_srv_count', 'dst_host_same_srv_rate',\n",
        "           'dst_host_diff_srv_rate', 'dst_host_same_src_port_rate',\n",
        "           'dst_host_srv_diff_host_rate', 'dst_host_serror_rate',\n",
        "           'dst_host_srv_serror_rate', 'dst_host_rerror_rate',\n",
        "           'dst_host_srv_rerror_rate', 'class']\n",
        "train_df.columns = columns\n",
        "test_df.columns = columns\n",
        "\n",
        "train_df.head()"
      ],
      "metadata": {
        "colab": {
          "base_uri": "https://localhost:8080/",
          "height": 299
        },
        "id": "iOiCW6HjcowF",
        "outputId": "7db52653-19c6-4818-e506-9500db186e65"
      },
      "execution_count": 2,
      "outputs": [
        {
          "output_type": "execute_result",
          "data": {
            "text/plain": [
              "   duration protocol_type  service flag  src_bytes  dst_bytes  land  \\\n",
              "0         0           udp    other   SF        146          0     0   \n",
              "1         0           tcp  private   S0          0          0     0   \n",
              "2         0           tcp     http   SF        232       8153     0   \n",
              "3         0           tcp     http   SF        199        420     0   \n",
              "4         0           tcp  private  REJ          0          0     0   \n",
              "\n",
              "   wrong_fragment  urgent  hot  ...  dst_host_srv_count  \\\n",
              "0               0       0    0  ...                   1   \n",
              "1               0       0    0  ...                  26   \n",
              "2               0       0    0  ...                 255   \n",
              "3               0       0    0  ...                 255   \n",
              "4               0       0    0  ...                  19   \n",
              "\n",
              "   dst_host_same_srv_rate  dst_host_diff_srv_rate  \\\n",
              "0                    0.00                    0.60   \n",
              "1                    0.10                    0.05   \n",
              "2                    1.00                    0.00   \n",
              "3                    1.00                    0.00   \n",
              "4                    0.07                    0.07   \n",
              "\n",
              "   dst_host_same_src_port_rate  dst_host_srv_diff_host_rate  \\\n",
              "0                         0.88                         0.00   \n",
              "1                         0.00                         0.00   \n",
              "2                         0.03                         0.04   \n",
              "3                         0.00                         0.00   \n",
              "4                         0.00                         0.00   \n",
              "\n",
              "   dst_host_serror_rate  dst_host_srv_serror_rate  dst_host_rerror_rate  \\\n",
              "0                  0.00                      0.00                   0.0   \n",
              "1                  1.00                      1.00                   0.0   \n",
              "2                  0.03                      0.01                   0.0   \n",
              "3                  0.00                      0.00                   0.0   \n",
              "4                  0.00                      0.00                   1.0   \n",
              "\n",
              "   dst_host_srv_rerror_rate    class  \n",
              "0                      0.00   normal  \n",
              "1                      0.00  neptune  \n",
              "2                      0.01   normal  \n",
              "3                      0.00   normal  \n",
              "4                      1.00  neptune  \n",
              "\n",
              "[5 rows x 42 columns]"
            ],
            "text/html": [
              "\n",
              "\n",
              "  <div id=\"df-7c75d50a-676d-4238-a25c-ceb65c856b27\">\n",
              "    <div class=\"colab-df-container\">\n",
              "      <div>\n",
              "<style scoped>\n",
              "    .dataframe tbody tr th:only-of-type {\n",
              "        vertical-align: middle;\n",
              "    }\n",
              "\n",
              "    .dataframe tbody tr th {\n",
              "        vertical-align: top;\n",
              "    }\n",
              "\n",
              "    .dataframe thead th {\n",
              "        text-align: right;\n",
              "    }\n",
              "</style>\n",
              "<table border=\"1\" class=\"dataframe\">\n",
              "  <thead>\n",
              "    <tr style=\"text-align: right;\">\n",
              "      <th></th>\n",
              "      <th>duration</th>\n",
              "      <th>protocol_type</th>\n",
              "      <th>service</th>\n",
              "      <th>flag</th>\n",
              "      <th>src_bytes</th>\n",
              "      <th>dst_bytes</th>\n",
              "      <th>land</th>\n",
              "      <th>wrong_fragment</th>\n",
              "      <th>urgent</th>\n",
              "      <th>hot</th>\n",
              "      <th>...</th>\n",
              "      <th>dst_host_srv_count</th>\n",
              "      <th>dst_host_same_srv_rate</th>\n",
              "      <th>dst_host_diff_srv_rate</th>\n",
              "      <th>dst_host_same_src_port_rate</th>\n",
              "      <th>dst_host_srv_diff_host_rate</th>\n",
              "      <th>dst_host_serror_rate</th>\n",
              "      <th>dst_host_srv_serror_rate</th>\n",
              "      <th>dst_host_rerror_rate</th>\n",
              "      <th>dst_host_srv_rerror_rate</th>\n",
              "      <th>class</th>\n",
              "    </tr>\n",
              "  </thead>\n",
              "  <tbody>\n",
              "    <tr>\n",
              "      <th>0</th>\n",
              "      <td>0</td>\n",
              "      <td>udp</td>\n",
              "      <td>other</td>\n",
              "      <td>SF</td>\n",
              "      <td>146</td>\n",
              "      <td>0</td>\n",
              "      <td>0</td>\n",
              "      <td>0</td>\n",
              "      <td>0</td>\n",
              "      <td>0</td>\n",
              "      <td>...</td>\n",
              "      <td>1</td>\n",
              "      <td>0.00</td>\n",
              "      <td>0.60</td>\n",
              "      <td>0.88</td>\n",
              "      <td>0.00</td>\n",
              "      <td>0.00</td>\n",
              "      <td>0.00</td>\n",
              "      <td>0.0</td>\n",
              "      <td>0.00</td>\n",
              "      <td>normal</td>\n",
              "    </tr>\n",
              "    <tr>\n",
              "      <th>1</th>\n",
              "      <td>0</td>\n",
              "      <td>tcp</td>\n",
              "      <td>private</td>\n",
              "      <td>S0</td>\n",
              "      <td>0</td>\n",
              "      <td>0</td>\n",
              "      <td>0</td>\n",
              "      <td>0</td>\n",
              "      <td>0</td>\n",
              "      <td>0</td>\n",
              "      <td>...</td>\n",
              "      <td>26</td>\n",
              "      <td>0.10</td>\n",
              "      <td>0.05</td>\n",
              "      <td>0.00</td>\n",
              "      <td>0.00</td>\n",
              "      <td>1.00</td>\n",
              "      <td>1.00</td>\n",
              "      <td>0.0</td>\n",
              "      <td>0.00</td>\n",
              "      <td>neptune</td>\n",
              "    </tr>\n",
              "    <tr>\n",
              "      <th>2</th>\n",
              "      <td>0</td>\n",
              "      <td>tcp</td>\n",
              "      <td>http</td>\n",
              "      <td>SF</td>\n",
              "      <td>232</td>\n",
              "      <td>8153</td>\n",
              "      <td>0</td>\n",
              "      <td>0</td>\n",
              "      <td>0</td>\n",
              "      <td>0</td>\n",
              "      <td>...</td>\n",
              "      <td>255</td>\n",
              "      <td>1.00</td>\n",
              "      <td>0.00</td>\n",
              "      <td>0.03</td>\n",
              "      <td>0.04</td>\n",
              "      <td>0.03</td>\n",
              "      <td>0.01</td>\n",
              "      <td>0.0</td>\n",
              "      <td>0.01</td>\n",
              "      <td>normal</td>\n",
              "    </tr>\n",
              "    <tr>\n",
              "      <th>3</th>\n",
              "      <td>0</td>\n",
              "      <td>tcp</td>\n",
              "      <td>http</td>\n",
              "      <td>SF</td>\n",
              "      <td>199</td>\n",
              "      <td>420</td>\n",
              "      <td>0</td>\n",
              "      <td>0</td>\n",
              "      <td>0</td>\n",
              "      <td>0</td>\n",
              "      <td>...</td>\n",
              "      <td>255</td>\n",
              "      <td>1.00</td>\n",
              "      <td>0.00</td>\n",
              "      <td>0.00</td>\n",
              "      <td>0.00</td>\n",
              "      <td>0.00</td>\n",
              "      <td>0.00</td>\n",
              "      <td>0.0</td>\n",
              "      <td>0.00</td>\n",
              "      <td>normal</td>\n",
              "    </tr>\n",
              "    <tr>\n",
              "      <th>4</th>\n",
              "      <td>0</td>\n",
              "      <td>tcp</td>\n",
              "      <td>private</td>\n",
              "      <td>REJ</td>\n",
              "      <td>0</td>\n",
              "      <td>0</td>\n",
              "      <td>0</td>\n",
              "      <td>0</td>\n",
              "      <td>0</td>\n",
              "      <td>0</td>\n",
              "      <td>...</td>\n",
              "      <td>19</td>\n",
              "      <td>0.07</td>\n",
              "      <td>0.07</td>\n",
              "      <td>0.00</td>\n",
              "      <td>0.00</td>\n",
              "      <td>0.00</td>\n",
              "      <td>0.00</td>\n",
              "      <td>1.0</td>\n",
              "      <td>1.00</td>\n",
              "      <td>neptune</td>\n",
              "    </tr>\n",
              "  </tbody>\n",
              "</table>\n",
              "<p>5 rows × 42 columns</p>\n",
              "</div>\n",
              "      <button class=\"colab-df-convert\" onclick=\"convertToInteractive('df-7c75d50a-676d-4238-a25c-ceb65c856b27')\"\n",
              "              title=\"Convert this dataframe to an interactive table.\"\n",
              "              style=\"display:none;\">\n",
              "\n",
              "  <svg xmlns=\"http://www.w3.org/2000/svg\" height=\"24px\"viewBox=\"0 0 24 24\"\n",
              "       width=\"24px\">\n",
              "    <path d=\"M0 0h24v24H0V0z\" fill=\"none\"/>\n",
              "    <path d=\"M18.56 5.44l.94 2.06.94-2.06 2.06-.94-2.06-.94-.94-2.06-.94 2.06-2.06.94zm-11 1L8.5 8.5l.94-2.06 2.06-.94-2.06-.94L8.5 2.5l-.94 2.06-2.06.94zm10 10l.94 2.06.94-2.06 2.06-.94-2.06-.94-.94-2.06-.94 2.06-2.06.94z\"/><path d=\"M17.41 7.96l-1.37-1.37c-.4-.4-.92-.59-1.43-.59-.52 0-1.04.2-1.43.59L10.3 9.45l-7.72 7.72c-.78.78-.78 2.05 0 2.83L4 21.41c.39.39.9.59 1.41.59.51 0 1.02-.2 1.41-.59l7.78-7.78 2.81-2.81c.8-.78.8-2.07 0-2.86zM5.41 20L4 18.59l7.72-7.72 1.47 1.35L5.41 20z\"/>\n",
              "  </svg>\n",
              "      </button>\n",
              "\n",
              "\n",
              "\n",
              "    <div id=\"df-3305b1c8-a86d-456e-9f44-e7b4e966d6bb\">\n",
              "      <button class=\"colab-df-quickchart\" onclick=\"quickchart('df-3305b1c8-a86d-456e-9f44-e7b4e966d6bb')\"\n",
              "              title=\"Suggest charts.\"\n",
              "              style=\"display:none;\">\n",
              "\n",
              "<svg xmlns=\"http://www.w3.org/2000/svg\" height=\"24px\"viewBox=\"0 0 24 24\"\n",
              "     width=\"24px\">\n",
              "    <g>\n",
              "        <path d=\"M19 3H5c-1.1 0-2 .9-2 2v14c0 1.1.9 2 2 2h14c1.1 0 2-.9 2-2V5c0-1.1-.9-2-2-2zM9 17H7v-7h2v7zm4 0h-2V7h2v10zm4 0h-2v-4h2v4z\"/>\n",
              "    </g>\n",
              "</svg>\n",
              "      </button>\n",
              "    </div>\n",
              "\n",
              "<style>\n",
              "  .colab-df-quickchart {\n",
              "    background-color: #E8F0FE;\n",
              "    border: none;\n",
              "    border-radius: 50%;\n",
              "    cursor: pointer;\n",
              "    display: none;\n",
              "    fill: #1967D2;\n",
              "    height: 32px;\n",
              "    padding: 0 0 0 0;\n",
              "    width: 32px;\n",
              "  }\n",
              "\n",
              "  .colab-df-quickchart:hover {\n",
              "    background-color: #E2EBFA;\n",
              "    box-shadow: 0px 1px 2px rgba(60, 64, 67, 0.3), 0px 1px 3px 1px rgba(60, 64, 67, 0.15);\n",
              "    fill: #174EA6;\n",
              "  }\n",
              "\n",
              "  [theme=dark] .colab-df-quickchart {\n",
              "    background-color: #3B4455;\n",
              "    fill: #D2E3FC;\n",
              "  }\n",
              "\n",
              "  [theme=dark] .colab-df-quickchart:hover {\n",
              "    background-color: #434B5C;\n",
              "    box-shadow: 0px 1px 3px 1px rgba(0, 0, 0, 0.15);\n",
              "    filter: drop-shadow(0px 1px 2px rgba(0, 0, 0, 0.3));\n",
              "    fill: #FFFFFF;\n",
              "  }\n",
              "</style>\n",
              "\n",
              "    <script>\n",
              "      async function quickchart(key) {\n",
              "        const containerElement = document.querySelector('#' + key);\n",
              "        const charts = await google.colab.kernel.invokeFunction(\n",
              "            'suggestCharts', [key], {});\n",
              "      }\n",
              "    </script>\n",
              "\n",
              "      <script>\n",
              "\n",
              "function displayQuickchartButton(domScope) {\n",
              "  let quickchartButtonEl =\n",
              "    domScope.querySelector('#df-3305b1c8-a86d-456e-9f44-e7b4e966d6bb button.colab-df-quickchart');\n",
              "  quickchartButtonEl.style.display =\n",
              "    google.colab.kernel.accessAllowed ? 'block' : 'none';\n",
              "}\n",
              "\n",
              "        displayQuickchartButton(document);\n",
              "      </script>\n",
              "      <style>\n",
              "    .colab-df-container {\n",
              "      display:flex;\n",
              "      flex-wrap:wrap;\n",
              "      gap: 12px;\n",
              "    }\n",
              "\n",
              "    .colab-df-convert {\n",
              "      background-color: #E8F0FE;\n",
              "      border: none;\n",
              "      border-radius: 50%;\n",
              "      cursor: pointer;\n",
              "      display: none;\n",
              "      fill: #1967D2;\n",
              "      height: 32px;\n",
              "      padding: 0 0 0 0;\n",
              "      width: 32px;\n",
              "    }\n",
              "\n",
              "    .colab-df-convert:hover {\n",
              "      background-color: #E2EBFA;\n",
              "      box-shadow: 0px 1px 2px rgba(60, 64, 67, 0.3), 0px 1px 3px 1px rgba(60, 64, 67, 0.15);\n",
              "      fill: #174EA6;\n",
              "    }\n",
              "\n",
              "    [theme=dark] .colab-df-convert {\n",
              "      background-color: #3B4455;\n",
              "      fill: #D2E3FC;\n",
              "    }\n",
              "\n",
              "    [theme=dark] .colab-df-convert:hover {\n",
              "      background-color: #434B5C;\n",
              "      box-shadow: 0px 1px 3px 1px rgba(0, 0, 0, 0.15);\n",
              "      filter: drop-shadow(0px 1px 2px rgba(0, 0, 0, 0.3));\n",
              "      fill: #FFFFFF;\n",
              "    }\n",
              "  </style>\n",
              "\n",
              "      <script>\n",
              "        const buttonEl =\n",
              "          document.querySelector('#df-7c75d50a-676d-4238-a25c-ceb65c856b27 button.colab-df-convert');\n",
              "        buttonEl.style.display =\n",
              "          google.colab.kernel.accessAllowed ? 'block' : 'none';\n",
              "\n",
              "        async function convertToInteractive(key) {\n",
              "          const element = document.querySelector('#df-7c75d50a-676d-4238-a25c-ceb65c856b27');\n",
              "          const dataTable =\n",
              "            await google.colab.kernel.invokeFunction('convertToInteractive',\n",
              "                                                     [key], {});\n",
              "          if (!dataTable) return;\n",
              "\n",
              "          const docLinkHtml = 'Like what you see? Visit the ' +\n",
              "            '<a target=\"_blank\" href=https://colab.research.google.com/notebooks/data_table.ipynb>data table notebook</a>'\n",
              "            + ' to learn more about interactive tables.';\n",
              "          element.innerHTML = '';\n",
              "          dataTable['output_type'] = 'display_data';\n",
              "          await google.colab.output.renderOutput(dataTable, element);\n",
              "          const docLink = document.createElement('div');\n",
              "          docLink.innerHTML = docLinkHtml;\n",
              "          element.appendChild(docLink);\n",
              "        }\n",
              "      </script>\n",
              "    </div>\n",
              "  </div>\n"
            ]
          },
          "metadata": {},
          "execution_count": 2
        }
      ]
    },
    {
      "cell_type": "code",
      "source": [
        "train_df['class'].unique()"
      ],
      "metadata": {
        "colab": {
          "base_uri": "https://localhost:8080/"
        },
        "id": "DMgaTfl7czFV",
        "outputId": "ec3ffc17-d330-4e25-c9d2-b1a93fbbd028"
      },
      "execution_count": 3,
      "outputs": [
        {
          "output_type": "execute_result",
          "data": {
            "text/plain": [
              "array(['normal', 'neptune', 'warezclient', 'ipsweep', 'portsweep',\n",
              "       'teardrop', 'nmap', 'satan', 'smurf', 'pod', 'back',\n",
              "       'guess_passwd', 'ftp_write', 'multihop', 'rootkit',\n",
              "       'buffer_overflow', 'imap', 'warezmaster', 'phf', 'land',\n",
              "       'loadmodule', 'spy', 'perl'], dtype=object)"
            ]
          },
          "metadata": {},
          "execution_count": 3
        }
      ]
    },
    {
      "cell_type": "code",
      "source": [
        "train_df['class'] = (train_df['class'] != \"normal\") * 1.0\n",
        "test_df['class'] = (test_df['class'] != \"normal\") * 1.0\n",
        "\n",
        "train_df.head()"
      ],
      "metadata": {
        "colab": {
          "base_uri": "https://localhost:8080/",
          "height": 299
        },
        "id": "GhhWxgFCc4zN",
        "outputId": "280c400d-ac32-4c08-d9ad-621c47c704d6"
      },
      "execution_count": 4,
      "outputs": [
        {
          "output_type": "execute_result",
          "data": {
            "text/plain": [
              "   duration protocol_type  service flag  src_bytes  dst_bytes  land  \\\n",
              "0         0           udp    other   SF        146          0     0   \n",
              "1         0           tcp  private   S0          0          0     0   \n",
              "2         0           tcp     http   SF        232       8153     0   \n",
              "3         0           tcp     http   SF        199        420     0   \n",
              "4         0           tcp  private  REJ          0          0     0   \n",
              "\n",
              "   wrong_fragment  urgent  hot  ...  dst_host_srv_count  \\\n",
              "0               0       0    0  ...                   1   \n",
              "1               0       0    0  ...                  26   \n",
              "2               0       0    0  ...                 255   \n",
              "3               0       0    0  ...                 255   \n",
              "4               0       0    0  ...                  19   \n",
              "\n",
              "   dst_host_same_srv_rate  dst_host_diff_srv_rate  \\\n",
              "0                    0.00                    0.60   \n",
              "1                    0.10                    0.05   \n",
              "2                    1.00                    0.00   \n",
              "3                    1.00                    0.00   \n",
              "4                    0.07                    0.07   \n",
              "\n",
              "   dst_host_same_src_port_rate  dst_host_srv_diff_host_rate  \\\n",
              "0                         0.88                         0.00   \n",
              "1                         0.00                         0.00   \n",
              "2                         0.03                         0.04   \n",
              "3                         0.00                         0.00   \n",
              "4                         0.00                         0.00   \n",
              "\n",
              "   dst_host_serror_rate  dst_host_srv_serror_rate  dst_host_rerror_rate  \\\n",
              "0                  0.00                      0.00                   0.0   \n",
              "1                  1.00                      1.00                   0.0   \n",
              "2                  0.03                      0.01                   0.0   \n",
              "3                  0.00                      0.00                   0.0   \n",
              "4                  0.00                      0.00                   1.0   \n",
              "\n",
              "   dst_host_srv_rerror_rate  class  \n",
              "0                      0.00    0.0  \n",
              "1                      0.00    1.0  \n",
              "2                      0.01    0.0  \n",
              "3                      0.00    0.0  \n",
              "4                      1.00    1.0  \n",
              "\n",
              "[5 rows x 42 columns]"
            ],
            "text/html": [
              "\n",
              "\n",
              "  <div id=\"df-ed9cbee6-fbaa-43f1-b08a-8fecfa3276b5\">\n",
              "    <div class=\"colab-df-container\">\n",
              "      <div>\n",
              "<style scoped>\n",
              "    .dataframe tbody tr th:only-of-type {\n",
              "        vertical-align: middle;\n",
              "    }\n",
              "\n",
              "    .dataframe tbody tr th {\n",
              "        vertical-align: top;\n",
              "    }\n",
              "\n",
              "    .dataframe thead th {\n",
              "        text-align: right;\n",
              "    }\n",
              "</style>\n",
              "<table border=\"1\" class=\"dataframe\">\n",
              "  <thead>\n",
              "    <tr style=\"text-align: right;\">\n",
              "      <th></th>\n",
              "      <th>duration</th>\n",
              "      <th>protocol_type</th>\n",
              "      <th>service</th>\n",
              "      <th>flag</th>\n",
              "      <th>src_bytes</th>\n",
              "      <th>dst_bytes</th>\n",
              "      <th>land</th>\n",
              "      <th>wrong_fragment</th>\n",
              "      <th>urgent</th>\n",
              "      <th>hot</th>\n",
              "      <th>...</th>\n",
              "      <th>dst_host_srv_count</th>\n",
              "      <th>dst_host_same_srv_rate</th>\n",
              "      <th>dst_host_diff_srv_rate</th>\n",
              "      <th>dst_host_same_src_port_rate</th>\n",
              "      <th>dst_host_srv_diff_host_rate</th>\n",
              "      <th>dst_host_serror_rate</th>\n",
              "      <th>dst_host_srv_serror_rate</th>\n",
              "      <th>dst_host_rerror_rate</th>\n",
              "      <th>dst_host_srv_rerror_rate</th>\n",
              "      <th>class</th>\n",
              "    </tr>\n",
              "  </thead>\n",
              "  <tbody>\n",
              "    <tr>\n",
              "      <th>0</th>\n",
              "      <td>0</td>\n",
              "      <td>udp</td>\n",
              "      <td>other</td>\n",
              "      <td>SF</td>\n",
              "      <td>146</td>\n",
              "      <td>0</td>\n",
              "      <td>0</td>\n",
              "      <td>0</td>\n",
              "      <td>0</td>\n",
              "      <td>0</td>\n",
              "      <td>...</td>\n",
              "      <td>1</td>\n",
              "      <td>0.00</td>\n",
              "      <td>0.60</td>\n",
              "      <td>0.88</td>\n",
              "      <td>0.00</td>\n",
              "      <td>0.00</td>\n",
              "      <td>0.00</td>\n",
              "      <td>0.0</td>\n",
              "      <td>0.00</td>\n",
              "      <td>0.0</td>\n",
              "    </tr>\n",
              "    <tr>\n",
              "      <th>1</th>\n",
              "      <td>0</td>\n",
              "      <td>tcp</td>\n",
              "      <td>private</td>\n",
              "      <td>S0</td>\n",
              "      <td>0</td>\n",
              "      <td>0</td>\n",
              "      <td>0</td>\n",
              "      <td>0</td>\n",
              "      <td>0</td>\n",
              "      <td>0</td>\n",
              "      <td>...</td>\n",
              "      <td>26</td>\n",
              "      <td>0.10</td>\n",
              "      <td>0.05</td>\n",
              "      <td>0.00</td>\n",
              "      <td>0.00</td>\n",
              "      <td>1.00</td>\n",
              "      <td>1.00</td>\n",
              "      <td>0.0</td>\n",
              "      <td>0.00</td>\n",
              "      <td>1.0</td>\n",
              "    </tr>\n",
              "    <tr>\n",
              "      <th>2</th>\n",
              "      <td>0</td>\n",
              "      <td>tcp</td>\n",
              "      <td>http</td>\n",
              "      <td>SF</td>\n",
              "      <td>232</td>\n",
              "      <td>8153</td>\n",
              "      <td>0</td>\n",
              "      <td>0</td>\n",
              "      <td>0</td>\n",
              "      <td>0</td>\n",
              "      <td>...</td>\n",
              "      <td>255</td>\n",
              "      <td>1.00</td>\n",
              "      <td>0.00</td>\n",
              "      <td>0.03</td>\n",
              "      <td>0.04</td>\n",
              "      <td>0.03</td>\n",
              "      <td>0.01</td>\n",
              "      <td>0.0</td>\n",
              "      <td>0.01</td>\n",
              "      <td>0.0</td>\n",
              "    </tr>\n",
              "    <tr>\n",
              "      <th>3</th>\n",
              "      <td>0</td>\n",
              "      <td>tcp</td>\n",
              "      <td>http</td>\n",
              "      <td>SF</td>\n",
              "      <td>199</td>\n",
              "      <td>420</td>\n",
              "      <td>0</td>\n",
              "      <td>0</td>\n",
              "      <td>0</td>\n",
              "      <td>0</td>\n",
              "      <td>...</td>\n",
              "      <td>255</td>\n",
              "      <td>1.00</td>\n",
              "      <td>0.00</td>\n",
              "      <td>0.00</td>\n",
              "      <td>0.00</td>\n",
              "      <td>0.00</td>\n",
              "      <td>0.00</td>\n",
              "      <td>0.0</td>\n",
              "      <td>0.00</td>\n",
              "      <td>0.0</td>\n",
              "    </tr>\n",
              "    <tr>\n",
              "      <th>4</th>\n",
              "      <td>0</td>\n",
              "      <td>tcp</td>\n",
              "      <td>private</td>\n",
              "      <td>REJ</td>\n",
              "      <td>0</td>\n",
              "      <td>0</td>\n",
              "      <td>0</td>\n",
              "      <td>0</td>\n",
              "      <td>0</td>\n",
              "      <td>0</td>\n",
              "      <td>...</td>\n",
              "      <td>19</td>\n",
              "      <td>0.07</td>\n",
              "      <td>0.07</td>\n",
              "      <td>0.00</td>\n",
              "      <td>0.00</td>\n",
              "      <td>0.00</td>\n",
              "      <td>0.00</td>\n",
              "      <td>1.0</td>\n",
              "      <td>1.00</td>\n",
              "      <td>1.0</td>\n",
              "    </tr>\n",
              "  </tbody>\n",
              "</table>\n",
              "<p>5 rows × 42 columns</p>\n",
              "</div>\n",
              "      <button class=\"colab-df-convert\" onclick=\"convertToInteractive('df-ed9cbee6-fbaa-43f1-b08a-8fecfa3276b5')\"\n",
              "              title=\"Convert this dataframe to an interactive table.\"\n",
              "              style=\"display:none;\">\n",
              "\n",
              "  <svg xmlns=\"http://www.w3.org/2000/svg\" height=\"24px\"viewBox=\"0 0 24 24\"\n",
              "       width=\"24px\">\n",
              "    <path d=\"M0 0h24v24H0V0z\" fill=\"none\"/>\n",
              "    <path d=\"M18.56 5.44l.94 2.06.94-2.06 2.06-.94-2.06-.94-.94-2.06-.94 2.06-2.06.94zm-11 1L8.5 8.5l.94-2.06 2.06-.94-2.06-.94L8.5 2.5l-.94 2.06-2.06.94zm10 10l.94 2.06.94-2.06 2.06-.94-2.06-.94-.94-2.06-.94 2.06-2.06.94z\"/><path d=\"M17.41 7.96l-1.37-1.37c-.4-.4-.92-.59-1.43-.59-.52 0-1.04.2-1.43.59L10.3 9.45l-7.72 7.72c-.78.78-.78 2.05 0 2.83L4 21.41c.39.39.9.59 1.41.59.51 0 1.02-.2 1.41-.59l7.78-7.78 2.81-2.81c.8-.78.8-2.07 0-2.86zM5.41 20L4 18.59l7.72-7.72 1.47 1.35L5.41 20z\"/>\n",
              "  </svg>\n",
              "      </button>\n",
              "\n",
              "\n",
              "\n",
              "    <div id=\"df-30a5f6cc-f771-498e-98e9-18e5a0f03887\">\n",
              "      <button class=\"colab-df-quickchart\" onclick=\"quickchart('df-30a5f6cc-f771-498e-98e9-18e5a0f03887')\"\n",
              "              title=\"Suggest charts.\"\n",
              "              style=\"display:none;\">\n",
              "\n",
              "<svg xmlns=\"http://www.w3.org/2000/svg\" height=\"24px\"viewBox=\"0 0 24 24\"\n",
              "     width=\"24px\">\n",
              "    <g>\n",
              "        <path d=\"M19 3H5c-1.1 0-2 .9-2 2v14c0 1.1.9 2 2 2h14c1.1 0 2-.9 2-2V5c0-1.1-.9-2-2-2zM9 17H7v-7h2v7zm4 0h-2V7h2v10zm4 0h-2v-4h2v4z\"/>\n",
              "    </g>\n",
              "</svg>\n",
              "      </button>\n",
              "    </div>\n",
              "\n",
              "<style>\n",
              "  .colab-df-quickchart {\n",
              "    background-color: #E8F0FE;\n",
              "    border: none;\n",
              "    border-radius: 50%;\n",
              "    cursor: pointer;\n",
              "    display: none;\n",
              "    fill: #1967D2;\n",
              "    height: 32px;\n",
              "    padding: 0 0 0 0;\n",
              "    width: 32px;\n",
              "  }\n",
              "\n",
              "  .colab-df-quickchart:hover {\n",
              "    background-color: #E2EBFA;\n",
              "    box-shadow: 0px 1px 2px rgba(60, 64, 67, 0.3), 0px 1px 3px 1px rgba(60, 64, 67, 0.15);\n",
              "    fill: #174EA6;\n",
              "  }\n",
              "\n",
              "  [theme=dark] .colab-df-quickchart {\n",
              "    background-color: #3B4455;\n",
              "    fill: #D2E3FC;\n",
              "  }\n",
              "\n",
              "  [theme=dark] .colab-df-quickchart:hover {\n",
              "    background-color: #434B5C;\n",
              "    box-shadow: 0px 1px 3px 1px rgba(0, 0, 0, 0.15);\n",
              "    filter: drop-shadow(0px 1px 2px rgba(0, 0, 0, 0.3));\n",
              "    fill: #FFFFFF;\n",
              "  }\n",
              "</style>\n",
              "\n",
              "    <script>\n",
              "      async function quickchart(key) {\n",
              "        const containerElement = document.querySelector('#' + key);\n",
              "        const charts = await google.colab.kernel.invokeFunction(\n",
              "            'suggestCharts', [key], {});\n",
              "      }\n",
              "    </script>\n",
              "\n",
              "      <script>\n",
              "\n",
              "function displayQuickchartButton(domScope) {\n",
              "  let quickchartButtonEl =\n",
              "    domScope.querySelector('#df-30a5f6cc-f771-498e-98e9-18e5a0f03887 button.colab-df-quickchart');\n",
              "  quickchartButtonEl.style.display =\n",
              "    google.colab.kernel.accessAllowed ? 'block' : 'none';\n",
              "}\n",
              "\n",
              "        displayQuickchartButton(document);\n",
              "      </script>\n",
              "      <style>\n",
              "    .colab-df-container {\n",
              "      display:flex;\n",
              "      flex-wrap:wrap;\n",
              "      gap: 12px;\n",
              "    }\n",
              "\n",
              "    .colab-df-convert {\n",
              "      background-color: #E8F0FE;\n",
              "      border: none;\n",
              "      border-radius: 50%;\n",
              "      cursor: pointer;\n",
              "      display: none;\n",
              "      fill: #1967D2;\n",
              "      height: 32px;\n",
              "      padding: 0 0 0 0;\n",
              "      width: 32px;\n",
              "    }\n",
              "\n",
              "    .colab-df-convert:hover {\n",
              "      background-color: #E2EBFA;\n",
              "      box-shadow: 0px 1px 2px rgba(60, 64, 67, 0.3), 0px 1px 3px 1px rgba(60, 64, 67, 0.15);\n",
              "      fill: #174EA6;\n",
              "    }\n",
              "\n",
              "    [theme=dark] .colab-df-convert {\n",
              "      background-color: #3B4455;\n",
              "      fill: #D2E3FC;\n",
              "    }\n",
              "\n",
              "    [theme=dark] .colab-df-convert:hover {\n",
              "      background-color: #434B5C;\n",
              "      box-shadow: 0px 1px 3px 1px rgba(0, 0, 0, 0.15);\n",
              "      filter: drop-shadow(0px 1px 2px rgba(0, 0, 0, 0.3));\n",
              "      fill: #FFFFFF;\n",
              "    }\n",
              "  </style>\n",
              "\n",
              "      <script>\n",
              "        const buttonEl =\n",
              "          document.querySelector('#df-ed9cbee6-fbaa-43f1-b08a-8fecfa3276b5 button.colab-df-convert');\n",
              "        buttonEl.style.display =\n",
              "          google.colab.kernel.accessAllowed ? 'block' : 'none';\n",
              "\n",
              "        async function convertToInteractive(key) {\n",
              "          const element = document.querySelector('#df-ed9cbee6-fbaa-43f1-b08a-8fecfa3276b5');\n",
              "          const dataTable =\n",
              "            await google.colab.kernel.invokeFunction('convertToInteractive',\n",
              "                                                     [key], {});\n",
              "          if (!dataTable) return;\n",
              "\n",
              "          const docLinkHtml = 'Like what you see? Visit the ' +\n",
              "            '<a target=\"_blank\" href=https://colab.research.google.com/notebooks/data_table.ipynb>data table notebook</a>'\n",
              "            + ' to learn more about interactive tables.';\n",
              "          element.innerHTML = '';\n",
              "          dataTable['output_type'] = 'display_data';\n",
              "          await google.colab.output.renderOutput(dataTable, element);\n",
              "          const docLink = document.createElement('div');\n",
              "          docLink.innerHTML = docLinkHtml;\n",
              "          element.appendChild(docLink);\n",
              "        }\n",
              "      </script>\n",
              "    </div>\n",
              "  </div>\n"
            ]
          },
          "metadata": {},
          "execution_count": 4
        }
      ]
    },
    {
      "cell_type": "code",
      "source": [
        "categorical = ['protocol_type', 'service', 'flag']\n",
        "\n",
        "for cat in categorical:\n",
        "    print(cat, \"train:\", train_df[cat].unique(),\"\\n\\n\", cat, \"test:\", test_df[cat].unique(),\n",
        "          \"\\n\\n============================================\\n\")"
      ],
      "metadata": {
        "colab": {
          "base_uri": "https://localhost:8080/"
        },
        "id": "vlgHeyiSdFmw",
        "outputId": "e1429f49-511b-4716-e5c6-d450998bd2f3"
      },
      "execution_count": 5,
      "outputs": [
        {
          "output_type": "stream",
          "name": "stdout",
          "text": [
            "protocol_type train: ['udp' 'tcp' 'icmp'] \n",
            "\n",
            " protocol_type test: ['tcp' 'icmp' 'udp'] \n",
            "\n",
            "============================================\n",
            "\n",
            "service train: ['other' 'private' 'http' 'remote_job' 'ftp_data' 'name' 'netbios_ns'\n",
            " 'eco_i' 'mtp' 'telnet' 'finger' 'domain_u' 'supdup' 'uucp_path' 'Z39_50'\n",
            " 'smtp' 'csnet_ns' 'uucp' 'netbios_dgm' 'urp_i' 'auth' 'domain' 'ftp'\n",
            " 'bgp' 'ldap' 'ecr_i' 'gopher' 'vmnet' 'systat' 'http_443' 'efs' 'whois'\n",
            " 'imap4' 'iso_tsap' 'echo' 'klogin' 'link' 'sunrpc' 'login' 'kshell'\n",
            " 'sql_net' 'time' 'hostnames' 'exec' 'ntp_u' 'discard' 'nntp' 'courier'\n",
            " 'ctf' 'ssh' 'daytime' 'shell' 'netstat' 'pop_3' 'nnsp' 'IRC' 'pop_2'\n",
            " 'printer' 'tim_i' 'pm_dump' 'red_i' 'netbios_ssn' 'rje' 'X11' 'urh_i'\n",
            " 'http_8001' 'aol' 'http_2784' 'tftp_u' 'harvest'] \n",
            "\n",
            " service test: ['private' 'ftp_data' 'eco_i' 'telnet' 'http' 'smtp' 'ftp' 'ldap' 'pop_3'\n",
            " 'courier' 'discard' 'ecr_i' 'imap4' 'domain_u' 'mtp' 'systat' 'iso_tsap'\n",
            " 'other' 'csnet_ns' 'finger' 'uucp' 'whois' 'netbios_ns' 'link' 'Z39_50'\n",
            " 'sunrpc' 'auth' 'netbios_dgm' 'uucp_path' 'vmnet' 'domain' 'name' 'pop_2'\n",
            " 'http_443' 'urp_i' 'login' 'gopher' 'exec' 'time' 'remote_job' 'ssh'\n",
            " 'kshell' 'sql_net' 'shell' 'hostnames' 'echo' 'daytime' 'pm_dump' 'IRC'\n",
            " 'netstat' 'ctf' 'nntp' 'netbios_ssn' 'tim_i' 'supdup' 'bgp' 'nnsp' 'rje'\n",
            " 'printer' 'efs' 'X11' 'ntp_u' 'klogin' 'tftp_u'] \n",
            "\n",
            "============================================\n",
            "\n",
            "flag train: ['SF' 'S0' 'REJ' 'RSTR' 'SH' 'RSTO' 'S1' 'RSTOS0' 'S3' 'S2' 'OTH'] \n",
            "\n",
            " flag test: ['REJ' 'SF' 'RSTO' 'S0' 'RSTR' 'SH' 'S3' 'S2' 'S1' 'RSTOS0' 'OTH'] \n",
            "\n",
            "============================================\n",
            "\n"
          ]
        }
      ]
    },
    {
      "cell_type": "code",
      "source": [
        "whole = pd.concat([test_df.assign(ind=\"test\"), train_df.assign(ind=\"train\")])\n",
        "\n",
        "for col in categorical:\n",
        "    one_hot = pd.get_dummies(whole[col], drop_first=True)\n",
        "    whole = whole.drop(columns=[col])\n",
        "    whole = pd.concat([whole, one_hot],axis=1)\n",
        "\n",
        "\n",
        "test_df, train_df = whole[whole[\"ind\"].eq(\"test\")].drop(columns=\"ind\"),\\\n",
        "whole[whole[\"ind\"].eq(\"train\")].drop(columns=\"ind\")"
      ],
      "metadata": {
        "id": "Gar26CH7dRcP"
      },
      "execution_count": 6,
      "outputs": []
    },
    {
      "cell_type": "code",
      "source": [
        "y_train, y_test = train_df['class'], test_df['class']\n",
        "X_train, X_test = train_df.drop(columns=['class']), test_df.drop(columns=['class'])"
      ],
      "metadata": {
        "id": "iKJsCz5Fdf-w"
      },
      "execution_count": 7,
      "outputs": []
    },
    {
      "cell_type": "code",
      "source": [
        "from sklearn.decomposition import FastICA\n",
        "\n",
        "# Define the number of components to extract\n",
        "n_components = 10  # Adjust the number of components as per your requirement\n",
        "\n",
        "# Initialize the FastICA transformer\n",
        "ica = FastICA(n_components=n_components)\n",
        "\n",
        "# Fit FastICA on the training data\n",
        "X_train_ica = ica.fit_transform(X_train)\n",
        "\n",
        "# Apply FastICA on the test data\n",
        "X_test_ica = ica.transform(X_test)"
      ],
      "metadata": {
        "colab": {
          "base_uri": "https://localhost:8080/"
        },
        "id": "s96N-Y8wiq2x",
        "outputId": "5426efee-9b8c-4f53-dd9d-41aa4319ab97"
      },
      "execution_count": 8,
      "outputs": [
        {
          "output_type": "stream",
          "name": "stderr",
          "text": [
            "/usr/local/lib/python3.10/dist-packages/sklearn/decomposition/_fastica.py:542: FutureWarning: Starting in v1.3, whiten='unit-variance' will be used by default.\n",
            "  warnings.warn(\n"
          ]
        }
      ]
    },
    {
      "cell_type": "markdown",
      "source": [
        "An alternative for the fastica extraction method"
      ],
      "metadata": {
        "id": "vzGb76DlkByl"
      }
    },
    {
      "cell_type": "code",
      "source": [
        "from sklearn.decomposition import PCA\n",
        "\n",
        "# Define the number of components to keep\n",
        "n_components = 10  # Adjust the number of components as per your requirement\n",
        "\n",
        "# Initialize the PCA transformer\n",
        "pca = PCA(n_components=n_components)\n",
        "\n",
        "# Fit PCA on the training data\n",
        "X_train_pca = pca.fit_transform(X_train)\n",
        "\n",
        "# Apply PCA on the test data\n",
        "X_test_pca = pca.transform(X_test)\n",
        "\n"
      ],
      "metadata": {
        "id": "G3RcYMVjffh-"
      },
      "execution_count": 9,
      "outputs": []
    },
    {
      "cell_type": "markdown",
      "source": [
        "Another feature extraction method which is sufficient for the dataset"
      ],
      "metadata": {
        "id": "UY69axKrkVnQ"
      }
    },
    {
      "cell_type": "code",
      "source": [
        "from sklearn.random_projection import GaussianRandomProjection\n",
        "\n",
        "# Define the number of components to extract\n",
        "n_components = 10  # Adjust the number of components as per your requirement\n",
        "\n",
        "# Initialize the Random Projection transformer\n",
        "rp = GaussianRandomProjection(n_components=n_components)\n",
        "\n",
        "# Fit Random Projection on the training data\n",
        "X_train_rp = rp.fit_transform(X_train)\n",
        "\n",
        "# Apply Random Projection on the test data\n",
        "X_test_rp = rp.transform(X_test)"
      ],
      "metadata": {
        "id": "ZbfSlgsHkTnU"
      },
      "execution_count": 10,
      "outputs": []
    },
    {
      "cell_type": "markdown",
      "source": [
        "IsolationForst Model performed on PCA"
      ],
      "metadata": {
        "id": "8tiC9ujxllKJ"
      }
    },
    {
      "cell_type": "code",
      "source": [
        "from sklearn.decomposition import PCA\n",
        "from sklearn.ensemble import IsolationForest\n",
        "\n",
        "# Define the number of components to keep\n",
        "n_components = 10  # Adjust the number of components as per your requirement\n",
        "\n",
        "# Initialize the PCA transformer\n",
        "pca = PCA(n_components=n_components)\n",
        "\n",
        "# Fit PCA on the training data\n",
        "X_train_pca = pca.fit_transform(X_train)\n",
        "\n",
        "# Apply PCA on the test data\n",
        "X_test_pca = pca.transform(X_test)\n",
        "\n",
        "# Initialize the Isolation Forest model\n",
        "model = IsolationForest(contamination=0.1)  # Adjust the contamination parameter as per your requirement\n",
        "\n",
        "# Train the model using the PCA-transformed features\n",
        "model.fit(X_train_pca)\n",
        "\n",
        "# Continue with the remaining steps specific to your anomaly detection workflow, such as evaluation and anomaly detection on test data\n"
      ],
      "metadata": {
        "colab": {
          "base_uri": "https://localhost:8080/",
          "height": 74
        },
        "id": "1RSLIBWjkq97",
        "outputId": "f820789d-7aac-4b7f-85f0-b6e727094ef2"
      },
      "execution_count": 11,
      "outputs": [
        {
          "output_type": "execute_result",
          "data": {
            "text/plain": [
              "IsolationForest(contamination=0.1)"
            ],
            "text/html": [
              "<style>#sk-container-id-1 {color: black;background-color: white;}#sk-container-id-1 pre{padding: 0;}#sk-container-id-1 div.sk-toggleable {background-color: white;}#sk-container-id-1 label.sk-toggleable__label {cursor: pointer;display: block;width: 100%;margin-bottom: 0;padding: 0.3em;box-sizing: border-box;text-align: center;}#sk-container-id-1 label.sk-toggleable__label-arrow:before {content: \"▸\";float: left;margin-right: 0.25em;color: #696969;}#sk-container-id-1 label.sk-toggleable__label-arrow:hover:before {color: black;}#sk-container-id-1 div.sk-estimator:hover label.sk-toggleable__label-arrow:before {color: black;}#sk-container-id-1 div.sk-toggleable__content {max-height: 0;max-width: 0;overflow: hidden;text-align: left;background-color: #f0f8ff;}#sk-container-id-1 div.sk-toggleable__content pre {margin: 0.2em;color: black;border-radius: 0.25em;background-color: #f0f8ff;}#sk-container-id-1 input.sk-toggleable__control:checked~div.sk-toggleable__content {max-height: 200px;max-width: 100%;overflow: auto;}#sk-container-id-1 input.sk-toggleable__control:checked~label.sk-toggleable__label-arrow:before {content: \"▾\";}#sk-container-id-1 div.sk-estimator input.sk-toggleable__control:checked~label.sk-toggleable__label {background-color: #d4ebff;}#sk-container-id-1 div.sk-label input.sk-toggleable__control:checked~label.sk-toggleable__label {background-color: #d4ebff;}#sk-container-id-1 input.sk-hidden--visually {border: 0;clip: rect(1px 1px 1px 1px);clip: rect(1px, 1px, 1px, 1px);height: 1px;margin: -1px;overflow: hidden;padding: 0;position: absolute;width: 1px;}#sk-container-id-1 div.sk-estimator {font-family: monospace;background-color: #f0f8ff;border: 1px dotted black;border-radius: 0.25em;box-sizing: border-box;margin-bottom: 0.5em;}#sk-container-id-1 div.sk-estimator:hover {background-color: #d4ebff;}#sk-container-id-1 div.sk-parallel-item::after {content: \"\";width: 100%;border-bottom: 1px solid gray;flex-grow: 1;}#sk-container-id-1 div.sk-label:hover label.sk-toggleable__label {background-color: #d4ebff;}#sk-container-id-1 div.sk-serial::before {content: \"\";position: absolute;border-left: 1px solid gray;box-sizing: border-box;top: 0;bottom: 0;left: 50%;z-index: 0;}#sk-container-id-1 div.sk-serial {display: flex;flex-direction: column;align-items: center;background-color: white;padding-right: 0.2em;padding-left: 0.2em;position: relative;}#sk-container-id-1 div.sk-item {position: relative;z-index: 1;}#sk-container-id-1 div.sk-parallel {display: flex;align-items: stretch;justify-content: center;background-color: white;position: relative;}#sk-container-id-1 div.sk-item::before, #sk-container-id-1 div.sk-parallel-item::before {content: \"\";position: absolute;border-left: 1px solid gray;box-sizing: border-box;top: 0;bottom: 0;left: 50%;z-index: -1;}#sk-container-id-1 div.sk-parallel-item {display: flex;flex-direction: column;z-index: 1;position: relative;background-color: white;}#sk-container-id-1 div.sk-parallel-item:first-child::after {align-self: flex-end;width: 50%;}#sk-container-id-1 div.sk-parallel-item:last-child::after {align-self: flex-start;width: 50%;}#sk-container-id-1 div.sk-parallel-item:only-child::after {width: 0;}#sk-container-id-1 div.sk-dashed-wrapped {border: 1px dashed gray;margin: 0 0.4em 0.5em 0.4em;box-sizing: border-box;padding-bottom: 0.4em;background-color: white;}#sk-container-id-1 div.sk-label label {font-family: monospace;font-weight: bold;display: inline-block;line-height: 1.2em;}#sk-container-id-1 div.sk-label-container {text-align: center;}#sk-container-id-1 div.sk-container {/* jupyter's `normalize.less` sets `[hidden] { display: none; }` but bootstrap.min.css set `[hidden] { display: none !important; }` so we also need the `!important` here to be able to override the default hidden behavior on the sphinx rendered scikit-learn.org. See: https://github.com/scikit-learn/scikit-learn/issues/21755 */display: inline-block !important;position: relative;}#sk-container-id-1 div.sk-text-repr-fallback {display: none;}</style><div id=\"sk-container-id-1\" class=\"sk-top-container\"><div class=\"sk-text-repr-fallback\"><pre>IsolationForest(contamination=0.1)</pre><b>In a Jupyter environment, please rerun this cell to show the HTML representation or trust the notebook. <br />On GitHub, the HTML representation is unable to render, please try loading this page with nbviewer.org.</b></div><div class=\"sk-container\" hidden><div class=\"sk-item\"><div class=\"sk-estimator sk-toggleable\"><input class=\"sk-toggleable__control sk-hidden--visually\" id=\"sk-estimator-id-1\" type=\"checkbox\" checked><label for=\"sk-estimator-id-1\" class=\"sk-toggleable__label sk-toggleable__label-arrow\">IsolationForest</label><div class=\"sk-toggleable__content\"><pre>IsolationForest(contamination=0.1)</pre></div></div></div></div></div>"
            ]
          },
          "metadata": {},
          "execution_count": 11
        }
      ]
    },
    {
      "cell_type": "markdown",
      "source": [
        "Another model (localoutlierFactor)"
      ],
      "metadata": {
        "id": "80V_x0dalek8"
      }
    },
    {
      "cell_type": "code",
      "source": [
        "from sklearn.decomposition import PCA\n",
        "from sklearn.neighbors import LocalOutlierFactor\n",
        "\n",
        "# Define the number of components to keep\n",
        "n_components = 10  # Adjust the number of components as per your requirement\n",
        "\n",
        "# Initialize the PCA transformer\n",
        "pca = PCA(n_components=n_components)\n",
        "\n",
        "# Fit PCA on the training data\n",
        "X_train_pca = pca.fit_transform(X_train)\n",
        "\n",
        "# Apply PCA on the test data\n",
        "X_test_pca = pca.transform(X_test)\n",
        "\n",
        "# Initialize the LOF model\n",
        "model = LocalOutlierFactor(contamination=0.1)  # Adjust the contamination parameter as per your requirement\n",
        "\n",
        "# Train the model using the PCA-transformed features\n",
        "model.fit(X_train_pca)\n",
        "\n",
        "# Continue with the remaining steps specific to your anomaly detection workflow, such as evaluation and anomaly detection on test data\n"
      ],
      "metadata": {
        "colab": {
          "base_uri": "https://localhost:8080/",
          "height": 74
        },
        "id": "Mgj-q90vldGc",
        "outputId": "436c1427-aa81-4d62-9842-3ef10b97fab0"
      },
      "execution_count": 12,
      "outputs": [
        {
          "output_type": "execute_result",
          "data": {
            "text/plain": [
              "LocalOutlierFactor(contamination=0.1)"
            ],
            "text/html": [
              "<style>#sk-container-id-2 {color: black;background-color: white;}#sk-container-id-2 pre{padding: 0;}#sk-container-id-2 div.sk-toggleable {background-color: white;}#sk-container-id-2 label.sk-toggleable__label {cursor: pointer;display: block;width: 100%;margin-bottom: 0;padding: 0.3em;box-sizing: border-box;text-align: center;}#sk-container-id-2 label.sk-toggleable__label-arrow:before {content: \"▸\";float: left;margin-right: 0.25em;color: #696969;}#sk-container-id-2 label.sk-toggleable__label-arrow:hover:before {color: black;}#sk-container-id-2 div.sk-estimator:hover label.sk-toggleable__label-arrow:before {color: black;}#sk-container-id-2 div.sk-toggleable__content {max-height: 0;max-width: 0;overflow: hidden;text-align: left;background-color: #f0f8ff;}#sk-container-id-2 div.sk-toggleable__content pre {margin: 0.2em;color: black;border-radius: 0.25em;background-color: #f0f8ff;}#sk-container-id-2 input.sk-toggleable__control:checked~div.sk-toggleable__content {max-height: 200px;max-width: 100%;overflow: auto;}#sk-container-id-2 input.sk-toggleable__control:checked~label.sk-toggleable__label-arrow:before {content: \"▾\";}#sk-container-id-2 div.sk-estimator input.sk-toggleable__control:checked~label.sk-toggleable__label {background-color: #d4ebff;}#sk-container-id-2 div.sk-label input.sk-toggleable__control:checked~label.sk-toggleable__label {background-color: #d4ebff;}#sk-container-id-2 input.sk-hidden--visually {border: 0;clip: rect(1px 1px 1px 1px);clip: rect(1px, 1px, 1px, 1px);height: 1px;margin: -1px;overflow: hidden;padding: 0;position: absolute;width: 1px;}#sk-container-id-2 div.sk-estimator {font-family: monospace;background-color: #f0f8ff;border: 1px dotted black;border-radius: 0.25em;box-sizing: border-box;margin-bottom: 0.5em;}#sk-container-id-2 div.sk-estimator:hover {background-color: #d4ebff;}#sk-container-id-2 div.sk-parallel-item::after {content: \"\";width: 100%;border-bottom: 1px solid gray;flex-grow: 1;}#sk-container-id-2 div.sk-label:hover label.sk-toggleable__label {background-color: #d4ebff;}#sk-container-id-2 div.sk-serial::before {content: \"\";position: absolute;border-left: 1px solid gray;box-sizing: border-box;top: 0;bottom: 0;left: 50%;z-index: 0;}#sk-container-id-2 div.sk-serial {display: flex;flex-direction: column;align-items: center;background-color: white;padding-right: 0.2em;padding-left: 0.2em;position: relative;}#sk-container-id-2 div.sk-item {position: relative;z-index: 1;}#sk-container-id-2 div.sk-parallel {display: flex;align-items: stretch;justify-content: center;background-color: white;position: relative;}#sk-container-id-2 div.sk-item::before, #sk-container-id-2 div.sk-parallel-item::before {content: \"\";position: absolute;border-left: 1px solid gray;box-sizing: border-box;top: 0;bottom: 0;left: 50%;z-index: -1;}#sk-container-id-2 div.sk-parallel-item {display: flex;flex-direction: column;z-index: 1;position: relative;background-color: white;}#sk-container-id-2 div.sk-parallel-item:first-child::after {align-self: flex-end;width: 50%;}#sk-container-id-2 div.sk-parallel-item:last-child::after {align-self: flex-start;width: 50%;}#sk-container-id-2 div.sk-parallel-item:only-child::after {width: 0;}#sk-container-id-2 div.sk-dashed-wrapped {border: 1px dashed gray;margin: 0 0.4em 0.5em 0.4em;box-sizing: border-box;padding-bottom: 0.4em;background-color: white;}#sk-container-id-2 div.sk-label label {font-family: monospace;font-weight: bold;display: inline-block;line-height: 1.2em;}#sk-container-id-2 div.sk-label-container {text-align: center;}#sk-container-id-2 div.sk-container {/* jupyter's `normalize.less` sets `[hidden] { display: none; }` but bootstrap.min.css set `[hidden] { display: none !important; }` so we also need the `!important` here to be able to override the default hidden behavior on the sphinx rendered scikit-learn.org. See: https://github.com/scikit-learn/scikit-learn/issues/21755 */display: inline-block !important;position: relative;}#sk-container-id-2 div.sk-text-repr-fallback {display: none;}</style><div id=\"sk-container-id-2\" class=\"sk-top-container\"><div class=\"sk-text-repr-fallback\"><pre>LocalOutlierFactor(contamination=0.1)</pre><b>In a Jupyter environment, please rerun this cell to show the HTML representation or trust the notebook. <br />On GitHub, the HTML representation is unable to render, please try loading this page with nbviewer.org.</b></div><div class=\"sk-container\" hidden><div class=\"sk-item\"><div class=\"sk-estimator sk-toggleable\"><input class=\"sk-toggleable__control sk-hidden--visually\" id=\"sk-estimator-id-2\" type=\"checkbox\" checked><label for=\"sk-estimator-id-2\" class=\"sk-toggleable__label sk-toggleable__label-arrow\">LocalOutlierFactor</label><div class=\"sk-toggleable__content\"><pre>LocalOutlierFactor(contamination=0.1)</pre></div></div></div></div></div>"
            ]
          },
          "metadata": {},
          "execution_count": 12
        }
      ]
    },
    {
      "cell_type": "markdown",
      "source": [
        "isolationforst model using GRP (guassian random Projection)"
      ],
      "metadata": {
        "id": "dAMV14JXl9Vi"
      }
    },
    {
      "cell_type": "code",
      "source": [
        "from sklearn.random_projection import GaussianRandomProjection\n",
        "from sklearn.ensemble import IsolationForest\n",
        "\n",
        "# Define the number of components for Gaussian Random Projection\n",
        "n_components = 10  # Adjust the number of components as per your requirement\n",
        "\n",
        "# Initialize the Gaussian Random Projection transformer\n",
        "grp = GaussianRandomProjection(n_components=n_components)\n",
        "\n",
        "# Fit GRP on the training data\n",
        "X_train_grp = grp.fit_transform(X_train)\n",
        "\n",
        "# Apply GRP on the test data\n",
        "X_test_grp = grp.transform(X_test)\n",
        "\n",
        "# Initialize the Isolation Forest model\n",
        "model = IsolationForest(contamination=0.1)  # Adjust the contamination parameter as per your requirement\n",
        "\n",
        "# Train the model using the GRP-transformed features\n",
        "model.fit(X_train_grp)\n",
        "\n",
        "# Continue with the remaining steps specific to your anomaly detection workflow, such as evaluation and anomaly detection on test data\n"
      ],
      "metadata": {
        "colab": {
          "base_uri": "https://localhost:8080/",
          "height": 74
        },
        "id": "pNRLq8_wmGTR",
        "outputId": "728ccbaa-1d92-4631-ec69-2b1fa832e64c"
      },
      "execution_count": 13,
      "outputs": [
        {
          "output_type": "execute_result",
          "data": {
            "text/plain": [
              "IsolationForest(contamination=0.1)"
            ],
            "text/html": [
              "<style>#sk-container-id-3 {color: black;background-color: white;}#sk-container-id-3 pre{padding: 0;}#sk-container-id-3 div.sk-toggleable {background-color: white;}#sk-container-id-3 label.sk-toggleable__label {cursor: pointer;display: block;width: 100%;margin-bottom: 0;padding: 0.3em;box-sizing: border-box;text-align: center;}#sk-container-id-3 label.sk-toggleable__label-arrow:before {content: \"▸\";float: left;margin-right: 0.25em;color: #696969;}#sk-container-id-3 label.sk-toggleable__label-arrow:hover:before {color: black;}#sk-container-id-3 div.sk-estimator:hover label.sk-toggleable__label-arrow:before {color: black;}#sk-container-id-3 div.sk-toggleable__content {max-height: 0;max-width: 0;overflow: hidden;text-align: left;background-color: #f0f8ff;}#sk-container-id-3 div.sk-toggleable__content pre {margin: 0.2em;color: black;border-radius: 0.25em;background-color: #f0f8ff;}#sk-container-id-3 input.sk-toggleable__control:checked~div.sk-toggleable__content {max-height: 200px;max-width: 100%;overflow: auto;}#sk-container-id-3 input.sk-toggleable__control:checked~label.sk-toggleable__label-arrow:before {content: \"▾\";}#sk-container-id-3 div.sk-estimator input.sk-toggleable__control:checked~label.sk-toggleable__label {background-color: #d4ebff;}#sk-container-id-3 div.sk-label input.sk-toggleable__control:checked~label.sk-toggleable__label {background-color: #d4ebff;}#sk-container-id-3 input.sk-hidden--visually {border: 0;clip: rect(1px 1px 1px 1px);clip: rect(1px, 1px, 1px, 1px);height: 1px;margin: -1px;overflow: hidden;padding: 0;position: absolute;width: 1px;}#sk-container-id-3 div.sk-estimator {font-family: monospace;background-color: #f0f8ff;border: 1px dotted black;border-radius: 0.25em;box-sizing: border-box;margin-bottom: 0.5em;}#sk-container-id-3 div.sk-estimator:hover {background-color: #d4ebff;}#sk-container-id-3 div.sk-parallel-item::after {content: \"\";width: 100%;border-bottom: 1px solid gray;flex-grow: 1;}#sk-container-id-3 div.sk-label:hover label.sk-toggleable__label {background-color: #d4ebff;}#sk-container-id-3 div.sk-serial::before {content: \"\";position: absolute;border-left: 1px solid gray;box-sizing: border-box;top: 0;bottom: 0;left: 50%;z-index: 0;}#sk-container-id-3 div.sk-serial {display: flex;flex-direction: column;align-items: center;background-color: white;padding-right: 0.2em;padding-left: 0.2em;position: relative;}#sk-container-id-3 div.sk-item {position: relative;z-index: 1;}#sk-container-id-3 div.sk-parallel {display: flex;align-items: stretch;justify-content: center;background-color: white;position: relative;}#sk-container-id-3 div.sk-item::before, #sk-container-id-3 div.sk-parallel-item::before {content: \"\";position: absolute;border-left: 1px solid gray;box-sizing: border-box;top: 0;bottom: 0;left: 50%;z-index: -1;}#sk-container-id-3 div.sk-parallel-item {display: flex;flex-direction: column;z-index: 1;position: relative;background-color: white;}#sk-container-id-3 div.sk-parallel-item:first-child::after {align-self: flex-end;width: 50%;}#sk-container-id-3 div.sk-parallel-item:last-child::after {align-self: flex-start;width: 50%;}#sk-container-id-3 div.sk-parallel-item:only-child::after {width: 0;}#sk-container-id-3 div.sk-dashed-wrapped {border: 1px dashed gray;margin: 0 0.4em 0.5em 0.4em;box-sizing: border-box;padding-bottom: 0.4em;background-color: white;}#sk-container-id-3 div.sk-label label {font-family: monospace;font-weight: bold;display: inline-block;line-height: 1.2em;}#sk-container-id-3 div.sk-label-container {text-align: center;}#sk-container-id-3 div.sk-container {/* jupyter's `normalize.less` sets `[hidden] { display: none; }` but bootstrap.min.css set `[hidden] { display: none !important; }` so we also need the `!important` here to be able to override the default hidden behavior on the sphinx rendered scikit-learn.org. See: https://github.com/scikit-learn/scikit-learn/issues/21755 */display: inline-block !important;position: relative;}#sk-container-id-3 div.sk-text-repr-fallback {display: none;}</style><div id=\"sk-container-id-3\" class=\"sk-top-container\"><div class=\"sk-text-repr-fallback\"><pre>IsolationForest(contamination=0.1)</pre><b>In a Jupyter environment, please rerun this cell to show the HTML representation or trust the notebook. <br />On GitHub, the HTML representation is unable to render, please try loading this page with nbviewer.org.</b></div><div class=\"sk-container\" hidden><div class=\"sk-item\"><div class=\"sk-estimator sk-toggleable\"><input class=\"sk-toggleable__control sk-hidden--visually\" id=\"sk-estimator-id-3\" type=\"checkbox\" checked><label for=\"sk-estimator-id-3\" class=\"sk-toggleable__label sk-toggleable__label-arrow\">IsolationForest</label><div class=\"sk-toggleable__content\"><pre>IsolationForest(contamination=0.1)</pre></div></div></div></div></div>"
            ]
          },
          "metadata": {},
          "execution_count": 13
        }
      ]
    },
    {
      "cell_type": "markdown",
      "source": [
        "Model Evaluation on isolation Forest"
      ],
      "metadata": {
        "id": "Vz-cTmOkm8RB"
      }
    },
    {
      "cell_type": "code",
      "source": [
        "from sklearn.ensemble import IsolationForest\n",
        "from sklearn.metrics import classification_report, confusion_matrix\n",
        "\n",
        "# Initialize the Isolation Forest model\n",
        "model = IsolationForest(contamination=0.1)  # Adjust the contamination parameter as per your requirement\n",
        "\n",
        "# Train the model\n",
        "model.fit(X_train)\n",
        "\n",
        "# Perform anomaly detection on the test data\n",
        "y_pred = model.predict(X_test)\n",
        "\n",
        "# Convert predictions to binary labels (1 for normal, -1 for anomaly)\n",
        "y_pred_binary = [1 if label == 1 else -1 for label in y_pred]\n",
        "\n",
        "# Evaluate the model\n",
        "print(\"Classification Report:\")\n",
        "print(classification_report(y_test, y_pred_binary))\n",
        "\n",
        "print(\"Confusion Matrix:\")\n",
        "print(confusion_matrix(y_test, y_pred_binary))\n"
      ],
      "metadata": {
        "colab": {
          "base_uri": "https://localhost:8080/"
        },
        "id": "cbZQMPHBm6k7",
        "outputId": "57bfe494-a417-4281-e922-40471e8ad0b0"
      },
      "execution_count": 14,
      "outputs": [
        {
          "output_type": "stream",
          "name": "stderr",
          "text": [
            "/usr/local/lib/python3.10/dist-packages/sklearn/base.py:439: UserWarning: X does not have valid feature names, but IsolationForest was fitted with feature names\n",
            "  warnings.warn(\n"
          ]
        },
        {
          "output_type": "stream",
          "name": "stdout",
          "text": [
            "Classification Report:\n",
            "              precision    recall  f1-score   support\n",
            "\n",
            "        -1.0       0.00      0.00      0.00         0\n",
            "         0.0       0.00      0.00      0.00      9711\n",
            "         1.0       0.50      0.70      0.58     12832\n",
            "\n",
            "    accuracy                           0.40     22543\n",
            "   macro avg       0.17      0.23      0.19     22543\n",
            "weighted avg       0.28      0.40      0.33     22543\n",
            "\n",
            "Confusion Matrix:\n"
          ]
        },
        {
          "output_type": "stream",
          "name": "stderr",
          "text": [
            "/usr/local/lib/python3.10/dist-packages/sklearn/metrics/_classification.py:1344: UndefinedMetricWarning: Precision and F-score are ill-defined and being set to 0.0 in labels with no predicted samples. Use `zero_division` parameter to control this behavior.\n",
            "  _warn_prf(average, modifier, msg_start, len(result))\n",
            "/usr/local/lib/python3.10/dist-packages/sklearn/metrics/_classification.py:1344: UndefinedMetricWarning: Recall and F-score are ill-defined and being set to 0.0 in labels with no true samples. Use `zero_division` parameter to control this behavior.\n",
            "  _warn_prf(average, modifier, msg_start, len(result))\n",
            "/usr/local/lib/python3.10/dist-packages/sklearn/metrics/_classification.py:1344: UndefinedMetricWarning: Precision and F-score are ill-defined and being set to 0.0 in labels with no predicted samples. Use `zero_division` parameter to control this behavior.\n",
            "  _warn_prf(average, modifier, msg_start, len(result))\n",
            "/usr/local/lib/python3.10/dist-packages/sklearn/metrics/_classification.py:1344: UndefinedMetricWarning: Recall and F-score are ill-defined and being set to 0.0 in labels with no true samples. Use `zero_division` parameter to control this behavior.\n",
            "  _warn_prf(average, modifier, msg_start, len(result))\n",
            "/usr/local/lib/python3.10/dist-packages/sklearn/metrics/_classification.py:1344: UndefinedMetricWarning: Precision and F-score are ill-defined and being set to 0.0 in labels with no predicted samples. Use `zero_division` parameter to control this behavior.\n",
            "  _warn_prf(average, modifier, msg_start, len(result))\n",
            "/usr/local/lib/python3.10/dist-packages/sklearn/metrics/_classification.py:1344: UndefinedMetricWarning: Recall and F-score are ill-defined and being set to 0.0 in labels with no true samples. Use `zero_division` parameter to control this behavior.\n",
            "  _warn_prf(average, modifier, msg_start, len(result))\n"
          ]
        },
        {
          "output_type": "stream",
          "name": "stdout",
          "text": [
            "[[   0    0    0]\n",
            " [ 576    0 9135]\n",
            " [3810    0 9022]]\n"
          ]
        }
      ]
    },
    {
      "cell_type": "markdown",
      "source": [
        "Model training on GRP\n"
      ],
      "metadata": {
        "id": "fSCpl3PDoAXP"
      }
    },
    {
      "cell_type": "code",
      "source": [
        "from sklearn.random_projection import GaussianRandomProjection\n",
        "from sklearn.ensemble import IsolationForest\n",
        "from sklearn.metrics import classification_report\n",
        "\n",
        "# Initialize and fit the Gaussian Random Projection\n",
        "grp = GaussianRandomProjection(n_components=10, random_state=42)\n",
        "X_train_grp = grp.fit_transform(X_train)        #transform the training and test data using the fitted GRP to obtain X_train_grp and X_test_grp.\n",
        "X_test_grp = grp.transform(X_test)\n",
        "\n",
        "# Initialize and fit the Isolation Forest model\n",
        "model = IsolationForest(contamination=0.1, random_state=42)\n",
        "model.fit(X_train_grp)              #The model is then used to perform anomaly detection on the test data (X_test_grp), resulting in the predictions stored in y_pred.\n",
        "\n",
        "# Perform anomaly detection on the test data using Gaussian Random Projection\n",
        "y_pred = model.predict(X_test_grp)\n",
        "\n",
        "# Convert predictions to binary labels (1 for normal, -1 for anomaly)\n",
        "y_pred_binary = [1 if label == 1 else -1 for label in y_pred]\n",
        "\n",
        "# Evaluate the model\n",
        "print(classification_report(y_test, y_pred_binary)) #We then use the classification_report function to evaluate the model's performance by comparing the predicted labels (y_pred_binary) with the true labels (y_test).\n"
      ],
      "metadata": {
        "colab": {
          "base_uri": "https://localhost:8080/"
        },
        "id": "mxz01OF1nECz",
        "outputId": "32f9e665-eb69-4606-da52-e5e473ae95f2"
      },
      "execution_count": 15,
      "outputs": [
        {
          "output_type": "stream",
          "name": "stdout",
          "text": [
            "              precision    recall  f1-score   support\n",
            "\n",
            "        -1.0       0.00      0.00      0.00         0\n",
            "         0.0       0.00      0.00      0.00      9711\n",
            "         1.0       0.58      0.88      0.70     12832\n",
            "\n",
            "    accuracy                           0.50     22543\n",
            "   macro avg       0.19      0.29      0.23     22543\n",
            "weighted avg       0.33      0.50      0.40     22543\n",
            "\n"
          ]
        },
        {
          "output_type": "stream",
          "name": "stderr",
          "text": [
            "/usr/local/lib/python3.10/dist-packages/sklearn/metrics/_classification.py:1344: UndefinedMetricWarning: Precision and F-score are ill-defined and being set to 0.0 in labels with no predicted samples. Use `zero_division` parameter to control this behavior.\n",
            "  _warn_prf(average, modifier, msg_start, len(result))\n",
            "/usr/local/lib/python3.10/dist-packages/sklearn/metrics/_classification.py:1344: UndefinedMetricWarning: Recall and F-score are ill-defined and being set to 0.0 in labels with no true samples. Use `zero_division` parameter to control this behavior.\n",
            "  _warn_prf(average, modifier, msg_start, len(result))\n",
            "/usr/local/lib/python3.10/dist-packages/sklearn/metrics/_classification.py:1344: UndefinedMetricWarning: Precision and F-score are ill-defined and being set to 0.0 in labels with no predicted samples. Use `zero_division` parameter to control this behavior.\n",
            "  _warn_prf(average, modifier, msg_start, len(result))\n",
            "/usr/local/lib/python3.10/dist-packages/sklearn/metrics/_classification.py:1344: UndefinedMetricWarning: Recall and F-score are ill-defined and being set to 0.0 in labels with no true samples. Use `zero_division` parameter to control this behavior.\n",
            "  _warn_prf(average, modifier, msg_start, len(result))\n",
            "/usr/local/lib/python3.10/dist-packages/sklearn/metrics/_classification.py:1344: UndefinedMetricWarning: Precision and F-score are ill-defined and being set to 0.0 in labels with no predicted samples. Use `zero_division` parameter to control this behavior.\n",
            "  _warn_prf(average, modifier, msg_start, len(result))\n",
            "/usr/local/lib/python3.10/dist-packages/sklearn/metrics/_classification.py:1344: UndefinedMetricWarning: Recall and F-score are ill-defined and being set to 0.0 in labels with no true samples. Use `zero_division` parameter to control this behavior.\n",
            "  _warn_prf(average, modifier, msg_start, len(result))\n"
          ]
        }
      ]
    },
    {
      "cell_type": "code",
      "source": [
        "from sklearn.random_projection import GaussianRandomProjection\n",
        "\n",
        "# Initialize and fit the Gaussian Random Projection\n",
        "grp = GaussianRandomProjection(n_components=10, random_state=42)\n",
        "X_train_grp = grp.fit_transform(X_train)\n",
        "X_test_grp = grp.transform(X_test)\n"
      ],
      "metadata": {
        "id": "SmRO8C2upd5P"
      },
      "execution_count": 18,
      "outputs": []
    },
    {
      "cell_type": "code",
      "source": [
        "from sklearn.ensemble import IsolationForest\n",
        "from sklearn.metrics import classification_report\n",
        "\n",
        "# Initialize and fit the Isolation Forest model\n",
        "model = IsolationForest(contamination=0.1, random_state=42)\n",
        "model.fit(X_train_grp)\n",
        "\n",
        "# Perform anomaly detection on the test data\n",
        "y_pred = model.predict(X_test_grp)\n",
        "\n",
        "# Convert predictions to binary labels (1 for normal, -1 for anomaly)\n",
        "y_pred_binary = [1 if label == 1 else -1 for label in y_pred]\n",
        "\n",
        "# Evaluate the model\n",
        "print(classification_report(y_test, y_pred_binary))\n"
      ],
      "metadata": {
        "colab": {
          "base_uri": "https://localhost:8080/"
        },
        "id": "iS9OLxLzpgUi",
        "outputId": "0a1a3592-9e43-409b-a790-fb53d2437d54"
      },
      "execution_count": 19,
      "outputs": [
        {
          "output_type": "stream",
          "name": "stdout",
          "text": [
            "              precision    recall  f1-score   support\n",
            "\n",
            "        -1.0       0.00      0.00      0.00         0\n",
            "         0.0       0.00      0.00      0.00      9711\n",
            "         1.0       0.58      0.88      0.70     12832\n",
            "\n",
            "    accuracy                           0.50     22543\n",
            "   macro avg       0.19      0.29      0.23     22543\n",
            "weighted avg       0.33      0.50      0.40     22543\n",
            "\n"
          ]
        },
        {
          "output_type": "stream",
          "name": "stderr",
          "text": [
            "/usr/local/lib/python3.10/dist-packages/sklearn/metrics/_classification.py:1344: UndefinedMetricWarning: Precision and F-score are ill-defined and being set to 0.0 in labels with no predicted samples. Use `zero_division` parameter to control this behavior.\n",
            "  _warn_prf(average, modifier, msg_start, len(result))\n",
            "/usr/local/lib/python3.10/dist-packages/sklearn/metrics/_classification.py:1344: UndefinedMetricWarning: Recall and F-score are ill-defined and being set to 0.0 in labels with no true samples. Use `zero_division` parameter to control this behavior.\n",
            "  _warn_prf(average, modifier, msg_start, len(result))\n",
            "/usr/local/lib/python3.10/dist-packages/sklearn/metrics/_classification.py:1344: UndefinedMetricWarning: Precision and F-score are ill-defined and being set to 0.0 in labels with no predicted samples. Use `zero_division` parameter to control this behavior.\n",
            "  _warn_prf(average, modifier, msg_start, len(result))\n",
            "/usr/local/lib/python3.10/dist-packages/sklearn/metrics/_classification.py:1344: UndefinedMetricWarning: Recall and F-score are ill-defined and being set to 0.0 in labels with no true samples. Use `zero_division` parameter to control this behavior.\n",
            "  _warn_prf(average, modifier, msg_start, len(result))\n",
            "/usr/local/lib/python3.10/dist-packages/sklearn/metrics/_classification.py:1344: UndefinedMetricWarning: Precision and F-score are ill-defined and being set to 0.0 in labels with no predicted samples. Use `zero_division` parameter to control this behavior.\n",
            "  _warn_prf(average, modifier, msg_start, len(result))\n",
            "/usr/local/lib/python3.10/dist-packages/sklearn/metrics/_classification.py:1344: UndefinedMetricWarning: Recall and F-score are ill-defined and being set to 0.0 in labels with no true samples. Use `zero_division` parameter to control this behavior.\n",
            "  _warn_prf(average, modifier, msg_start, len(result))\n"
          ]
        }
      ]
    },
    {
      "cell_type": "markdown",
      "source": [
        "Anomaly Interpretation and Investigation:"
      ],
      "metadata": {
        "id": "84isTJBNp180"
      }
    },
    {
      "cell_type": "code",
      "source": [
        "import pandas as pd\n",
        "\n",
        "# Combine the original features with the predicted labels\n",
        "anomalies_df = pd.concat([X_test.reset_index(drop=True), pd.Series(y_pred_binary, name='Anomaly')], axis=1)   #The Anomaly column contains the binary labels, where -1 represents an anomaly.\n",
        "\n",
        "# Subset the dataframe to get only the detected anomalies\n",
        "detected_anomalies = anomalies_df[anomalies_df['Anomaly'] == -1]      #then subset the anomalies_df dataframe to get only the rows where anomalies were detected, storing them in the detected_anomalies dataframe.\n",
        "\n",
        "# Explore the characteristics and patterns of the detected anomalies\n",
        "print(\"Detected Anomalies:\")\n",
        "print(detected_anomalies.head())\n",
        "\n"
      ],
      "metadata": {
        "colab": {
          "base_uri": "https://localhost:8080/"
        },
        "id": "bSCYWCNwp1lH",
        "outputId": "aa8526b0-eb43-4733-88dc-6cae39a29b02"
      },
      "execution_count": 20,
      "outputs": [
        {
          "output_type": "stream",
          "name": "stdout",
          "text": [
            "Detected Anomalies:\n",
            "    duration  src_bytes  dst_bytes  land  wrong_fragment  urgent  hot  \\\n",
            "1          2      12983          0     0               0       0    0   \n",
            "4          0        267      14515     0               0       0    0   \n",
            "13        37        773     364200     0               0       0    0   \n",
            "25         0        294       6442     0               0       0    0   \n",
            "29       805      76944          1     0               0       0    0   \n",
            "\n",
            "    num_failed_logins  logged_in  num_compromised  ...  RSTO  RSTOS0  RSTR  \\\n",
            "1                   0          0                0  ...     0       0     0   \n",
            "4                   0          1                0  ...     0       0     0   \n",
            "13                  0          1                0  ...     0       0     0   \n",
            "25                  0          1                0  ...     0       0     0   \n",
            "29                  0          1                0  ...     0       0     1   \n",
            "\n",
            "    S0  S1  S2  S3  SF  SH  Anomaly  \n",
            "1    0   0   0   0   1   0       -1  \n",
            "4    0   0   0   0   1   0       -1  \n",
            "13   0   0   0   0   1   0       -1  \n",
            "25   0   0   0   0   1   0       -1  \n",
            "29   0   0   0   0   0   0       -1  \n",
            "\n",
            "[5 rows x 120 columns]\n"
          ]
        }
      ]
    },
    {
      "cell_type": "markdown",
      "source": [
        " adjust the threshold or contamination parameter in the Isolation Forest model."
      ],
      "metadata": {
        "id": "AzrEMt9QqZH2"
      }
    },
    {
      "cell_type": "code",
      "source": [
        "from sklearn.ensemble import IsolationForest\n",
        "from sklearn.metrics import precision_recall_fscore_support\n",
        "\n",
        "# Initialize the Isolation Forest model with a higher contamination rate\n",
        "model_adjusted = IsolationForest(contamination=0.2, random_state=42)\n",
        "model_adjusted.fit(X_train)\n",
        "\n",
        "# Perform anomaly detection on the test data\n",
        "y_pred_adjusted = model_adjusted.predict(X_test)\n",
        "\n",
        "# Convert predictions to binary labels (1 for normal, -1 for anomaly)\n",
        "y_pred_binary_adjusted = [1 if label == 1 else -1 for label in y_pred_adjusted]\n",
        "\n",
        "# Evaluate the adjusted model\n",
        "precision, recall, f1, _ = precision_recall_fscore_support(y_test, y_pred_binary_adjusted, average='macro')\n",
        "\n",
        "# Print the evaluation metrics\n",
        "print(\"Adjusted Model Performance:\")\n",
        "print(f\"Precision: {precision:.4f}\")\n",
        "print(f\"Recall: {recall:.4f}\")\n",
        "print(f\"F1-score: {f1:.4f}\")\n",
        "\n"
      ],
      "metadata": {
        "colab": {
          "base_uri": "https://localhost:8080/"
        },
        "id": "WjhJoH8Tp8rp",
        "outputId": "1cf8611a-69a0-418e-bb8c-c0d27db66512"
      },
      "execution_count": 23,
      "outputs": [
        {
          "output_type": "stream",
          "name": "stderr",
          "text": [
            "/usr/local/lib/python3.10/dist-packages/sklearn/base.py:439: UserWarning: X does not have valid feature names, but IsolationForest was fitted with feature names\n",
            "  warnings.warn(\n"
          ]
        },
        {
          "output_type": "stream",
          "name": "stdout",
          "text": [
            "Adjusted Model Performance:\n",
            "Precision: 0.1246\n",
            "Recall: 0.1391\n",
            "F1-score: 0.1314\n"
          ]
        },
        {
          "output_type": "stream",
          "name": "stderr",
          "text": [
            "/usr/local/lib/python3.10/dist-packages/sklearn/metrics/_classification.py:1344: UndefinedMetricWarning: Precision and F-score are ill-defined and being set to 0.0 in labels with no predicted samples. Use `zero_division` parameter to control this behavior.\n",
            "  _warn_prf(average, modifier, msg_start, len(result))\n",
            "/usr/local/lib/python3.10/dist-packages/sklearn/metrics/_classification.py:1344: UndefinedMetricWarning: Recall and F-score are ill-defined and being set to 0.0 in labels with no true samples. Use `zero_division` parameter to control this behavior.\n",
            "  _warn_prf(average, modifier, msg_start, len(result))\n"
          ]
        }
      ]
    },
    {
      "cell_type": "markdown",
      "source": [
        "visualizing the results of anomaly detection"
      ],
      "metadata": {
        "id": "CLPtyW6frQWq"
      }
    },
    {
      "cell_type": "code",
      "source": [
        "import numpy as np\n",
        "import seaborn as sns\n",
        "import matplotlib.pyplot as plt\n",
        "from sklearn.metrics import confusion_matrix\n",
        "\n",
        "# Create a confusion matrix\n",
        "cm = confusion_matrix(y_test, y_pred_binary_adjusted)\n",
        "\n",
        "# Define class labels\n",
        "class_labels = ['Normal', 'Anomaly']\n",
        "\n",
        "# Plot the confusion matrix\n",
        "plt.figure(figsize=(8, 6))\n",
        "sns.heatmap(cm, annot=True, fmt='d', cmap='Blues', xticklabels=class_labels, yticklabels=class_labels)\n",
        "plt.xlabel('Predicted')\n",
        "plt.ylabel('True')\n",
        "plt.title('Confusion Matrix')\n",
        "plt.show()\n"
      ],
      "metadata": {
        "colab": {
          "base_uri": "https://localhost:8080/",
          "height": 564
        },
        "id": "820wBUuurSSm",
        "outputId": "b20ff7e7-a5d5-4a7e-8e9c-88672671c29f"
      },
      "execution_count": 24,
      "outputs": [
        {
          "output_type": "display_data",
          "data": {
            "text/plain": [
              "<Figure size 800x600 with 2 Axes>"
            ],
            "image/png": "[encoded data removed]"
          },
          "metadata": {}
        }
      ]
    },
    {
      "cell_type": "markdown",
      "source": [
        "adjusting the threshold for classifying instances as anomalies or normal based on the anomaly score. This step allows you to fine-tune the trade-off between precision and recall."
      ],
      "metadata": {
        "id": "Rn867K_vrwQO"
      }
    },
    {
      "cell_type": "code",
      "source": [
        "import pandas as pd\n",
        "\n",
        "# Combine the original features with the predicted labels\n",
        "anomalies_df = pd.concat([X_test.reset_index(drop=True), pd.Series(y_pred_binary, name='Anomaly')], axis=1)\n",
        "\n",
        "# Subset the dataframe to get only the detected anomalies\n",
        "detected_anomalies = anomalies_df[anomalies_df['Anomaly'] == -1]\n",
        "\n",
        "# Explore the characteristics and patterns of the detected anomalies\n",
        "print(\"Detected Anomalies:\")\n",
        "print(detected_anomalies.head())\n",
        "\n",
        "# Calculate summary statistics of the detected anomalies\n",
        "summary_stats = detected_anomalies.describe()\n",
        "print(\"\\nSummary Statistics of Detected Anomalies:\")\n",
        "print(summary_stats)\n",
        "\n",
        "# Perform further analysis or investigation on the detected anomalies\n",
        "# ... your code here ...\n"
      ],
      "metadata": {
        "colab": {
          "base_uri": "https://localhost:8080/"
        },
        "id": "5CRVDEVirqbP",
        "outputId": "3587d516-7e15-42b9-ebc1-8a8d74b92b5b"
      },
      "execution_count": 29,
      "outputs": [
        {
          "output_type": "stream",
          "name": "stdout",
          "text": [
            "Detected Anomalies:\n",
            "    duration  src_bytes  dst_bytes  land  wrong_fragment  urgent  hot  \\\n",
            "1          2      12983          0     0               0       0    0   \n",
            "4          0        267      14515     0               0       0    0   \n",
            "13        37        773     364200     0               0       0    0   \n",
            "25         0        294       6442     0               0       0    0   \n",
            "29       805      76944          1     0               0       0    0   \n",
            "\n",
            "    num_failed_logins  logged_in  num_compromised  ...  RSTO  RSTOS0  RSTR  \\\n",
            "1                   0          0                0  ...     0       0     0   \n",
            "4                   0          1                0  ...     0       0     0   \n",
            "13                  0          1                0  ...     0       0     0   \n",
            "25                  0          1                0  ...     0       0     0   \n",
            "29                  0          1                0  ...     0       0     1   \n",
            "\n",
            "    S0  S1  S2  S3  SF  SH  Anomaly  \n",
            "1    0   0   0   0   1   0       -1  \n",
            "4    0   0   0   0   1   0       -1  \n",
            "13   0   0   0   0   1   0       -1  \n",
            "25   0   0   0   0   1   0       -1  \n",
            "29   0   0   0   0   0   0       -1  \n",
            "\n",
            "[5 rows x 120 columns]\n",
            "\n",
            "Summary Statistics of Detected Anomalies:\n",
            "           duration     src_bytes     dst_bytes    land  wrong_fragment  \\\n",
            "count   3146.000000  3.146000e+03  3.146000e+03  3146.0          3146.0   \n",
            "mean    1502.466942  7.315518e+04  1.165981e+04     0.0             0.0   \n",
            "std     3498.688956  1.263976e+06  5.580079e+04     0.0             0.0   \n",
            "min        0.000000  0.000000e+00  0.000000e+00     0.0             0.0   \n",
            "25%        0.000000  2.062500e+02  1.000000e+00     0.0             0.0   \n",
            "50%        0.000000  3.050000e+02  6.869500e+03     0.0             0.0   \n",
            "75%      896.000000  5.454000e+04  1.022350e+04     0.0             0.0   \n",
            "max    57715.000000  6.282565e+07  1.345927e+06     0.0             0.0   \n",
            "\n",
            "            urgent          hot  num_failed_logins    logged_in  \\\n",
            "count  3146.000000  3146.000000        3146.000000  3146.000000   \n",
            "mean      0.003497     0.301017           0.000954     0.726955   \n",
            "std       0.085446     1.964707           0.030870     0.445595   \n",
            "min       0.000000     0.000000           0.000000     0.000000   \n",
            "25%       0.000000     0.000000           0.000000     0.000000   \n",
            "50%       0.000000     0.000000           0.000000     1.000000   \n",
            "75%       0.000000     0.000000           0.000000     1.000000   \n",
            "max       3.000000   101.000000           1.000000     1.000000   \n",
            "\n",
            "       num_compromised  ...         RSTO  RSTOS0         RSTR      S0  \\\n",
            "count      3146.000000  ...  3146.000000  3146.0  3146.000000  3146.0   \n",
            "mean          0.847425  ...     0.000318     0.0     0.164018     0.0   \n",
            "std          19.445859  ...     0.017829     0.0     0.370351     0.0   \n",
            "min           0.000000  ...     0.000000     0.0     0.000000     0.0   \n",
            "25%           0.000000  ...     0.000000     0.0     0.000000     0.0   \n",
            "50%           0.000000  ...     0.000000     0.0     0.000000     0.0   \n",
            "75%           0.000000  ...     0.000000     0.0     0.000000     0.0   \n",
            "max         796.000000  ...     1.000000     0.0     1.000000     0.0   \n",
            "\n",
            "                S1           S2           S3           SF      SH  Anomaly  \n",
            "count  3146.000000  3146.000000  3146.000000  3146.000000  3146.0   3146.0  \n",
            "mean      0.004450     0.003179     0.008582     0.819453     0.0     -1.0  \n",
            "std       0.066571     0.056299     0.092257     0.384703     0.0      0.0  \n",
            "min       0.000000     0.000000     0.000000     0.000000     0.0     -1.0  \n",
            "25%       0.000000     0.000000     0.000000     1.000000     0.0     -1.0  \n",
            "50%       0.000000     0.000000     0.000000     1.000000     0.0     -1.0  \n",
            "75%       0.000000     0.000000     0.000000     1.000000     0.0     -1.0  \n",
            "max       1.000000     1.000000     1.000000     1.000000     0.0     -1.0  \n",
            "\n",
            "[8 rows x 120 columns]\n"
          ]
        }
      ]
    },
    {
      "cell_type": "markdown",
      "source": [
        "Further classification"
      ],
      "metadata": {
        "id": "av3KOKfdt-S4"
      }
    },
    {
      "cell_type": "code",
      "source": [
        "import pandas as pd\n",
        "from sklearn.ensemble import RandomForestClassifier\n",
        "from sklearn.metrics import classification_report\n",
        "\n",
        "# Assuming a classification task with target variable 'anomaly_type'\n",
        "X = data.drop('anomaly_type', axis=1)\n",
        "y = data['anomaly_type']\n",
        "\n",
        "# Split the dataset into training and testing sets\n",
        "# (You can modify this step based on your specific dataset)\n",
        "from sklearn.model_selection import train_test_split\n",
        "X_train, X_test, y_train, y_test = train_test_split(X, y, test_size=0.2)\n",
        "\n",
        "# Initialize the Random Forest Classifier\n",
        "model = RandomForestClassifier()\n",
        "\n",
        "# Fit the model on the training data\n",
        "model.fit(X_train, y_train)\n",
        "\n",
        "# Make predictions on the test data\n",
        "y_pred = model.predict(X_test)\n",
        "\n",
        "# Evaluate the model performance\n",
        "report = classification_report(y_test, y_pred)\n",
        "print(\"Classification Report:\\n\", report)\n"
      ],
      "metadata": {
        "colab": {
          "base_uri": "https://localhost:8080/",
          "height": 235
        },
        "id": "9vYhITj8t81_",
        "outputId": "082bd736-695b-4d2b-c3b2-9adf88b550b8"
      },
      "execution_count": 31,
      "outputs": [
        {
          "output_type": "error",
          "ename": "NameError",
          "evalue": "ignored",
          "traceback": [
            "\u001b[0;31m---------------------------------------------------------------------------\u001b[0m",
            "\u001b[0;31mNameError\u001b[0m                                 Traceback (most recent call last)",
            "\u001b[0;32m<ipython-input-31-15809ebb3a36>\u001b[0m in \u001b[0;36m<cell line: 6>\u001b[0;34m()\u001b[0m\n\u001b[1;32m      4\u001b[0m \u001b[0;34m\u001b[0m\u001b[0m\n\u001b[1;32m      5\u001b[0m \u001b[0;31m# Assuming a classification task with target variable 'anomaly_type'\u001b[0m\u001b[0;34m\u001b[0m\u001b[0;34m\u001b[0m\u001b[0m\n\u001b[0;32m----> 6\u001b[0;31m \u001b[0mX\u001b[0m \u001b[0;34m=\u001b[0m \u001b[0mdata\u001b[0m\u001b[0;34m.\u001b[0m\u001b[0mdrop\u001b[0m\u001b[0;34m(\u001b[0m\u001b[0;34m'anomaly_type'\u001b[0m\u001b[0;34m,\u001b[0m \u001b[0maxis\u001b[0m\u001b[0;34m=\u001b[0m\u001b[0;36m1\u001b[0m\u001b[0;34m)\u001b[0m\u001b[0;34m\u001b[0m\u001b[0;34m\u001b[0m\u001b[0m\n\u001b[0m\u001b[1;32m      7\u001b[0m \u001b[0my\u001b[0m \u001b[0;34m=\u001b[0m \u001b[0mdata\u001b[0m\u001b[0;34m[\u001b[0m\u001b[0;34m'anomaly_type'\u001b[0m\u001b[0;34m]\u001b[0m\u001b[0;34m\u001b[0m\u001b[0;34m\u001b[0m\u001b[0m\n\u001b[1;32m      8\u001b[0m \u001b[0;34m\u001b[0m\u001b[0m\n",
            "\u001b[0;31mNameError\u001b[0m: name 'data' is not defined"
          ]
        }
      ]
    },
    {
      "cell_type": "code",
      "source": [
        "import pandas as pd\n",
        "import seaborn as sns\n",
        "\n",
        "\n",
        "# Compute the correlation matrix\n",
        "corr_matrix = data.corr()\n",
        "\n",
        "# Visualize the correlation matrix using a heatmap\n",
        "sns.heatmap(corr_matrix, cmap='coolwarm', annot=True)\n",
        "\n",
        "# Generate scatter plots for selected feature pairs\n",
        "sns.pairplot(data[['feature1', 'feature2', 'feature3']])  # Replace 'feature1', 'feature2', 'feature3' with your desired feature names\n",
        "\n",
        "# Show the plots\n",
        "plt.show()\n"
      ],
      "metadata": {
        "colab": {
          "base_uri": "https://localhost:8080/",
          "height": 235
        },
        "id": "TdzH2KeCuFfr",
        "outputId": "01e3d3f5-c987-4cf6-d71d-c0b82e2aa78b"
      },
      "execution_count": 32,
      "outputs": [
        {
          "output_type": "error",
          "ename": "NameError",
          "evalue": "ignored",
          "traceback": [
            "\u001b[0;31m---------------------------------------------------------------------------\u001b[0m",
            "\u001b[0;31mNameError\u001b[0m                                 Traceback (most recent call last)",
            "\u001b[0;32m<ipython-input-32-e90d65c4f5f8>\u001b[0m in \u001b[0;36m<cell line: 6>\u001b[0;34m()\u001b[0m\n\u001b[1;32m      4\u001b[0m \u001b[0;34m\u001b[0m\u001b[0m\n\u001b[1;32m      5\u001b[0m \u001b[0;31m# Compute the correlation matrix\u001b[0m\u001b[0;34m\u001b[0m\u001b[0;34m\u001b[0m\u001b[0m\n\u001b[0;32m----> 6\u001b[0;31m \u001b[0mcorr_matrix\u001b[0m \u001b[0;34m=\u001b[0m \u001b[0mdata\u001b[0m\u001b[0;34m.\u001b[0m\u001b[0mcorr\u001b[0m\u001b[0;34m(\u001b[0m\u001b[0;34m)\u001b[0m\u001b[0;34m\u001b[0m\u001b[0;34m\u001b[0m\u001b[0m\n\u001b[0m\u001b[1;32m      7\u001b[0m \u001b[0;34m\u001b[0m\u001b[0m\n\u001b[1;32m      8\u001b[0m \u001b[0;31m# Visualize the correlation matrix using a heatmap\u001b[0m\u001b[0;34m\u001b[0m\u001b[0;34m\u001b[0m\u001b[0m\n",
            "\u001b[0;31mNameError\u001b[0m: name 'data' is not defined"
          ]
        }
      ]
    }
  ]
}